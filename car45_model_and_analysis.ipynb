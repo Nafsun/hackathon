{
 "cells": [
  {
   "cell_type": "markdown",
   "metadata": {},
   "source": [
    "# TEAM C"
   ]
  },
  {
   "cell_type": "markdown",
   "metadata": {},
   "source": [
    "**Main Purpose**: This notebook contains a model that is built to predict the CO2 emission of a vechile given some it features as input. It also contains an analysis of which features are the most important in predicting CO2 emission using Ordinary Least Square, Feature Permutation Analysis, F_Regression, Random Forest Feature Importance, CatBoost Model. The data used to train this model was scraped from https://www.car45.com, https://edmunds.com and https://fueleconomy.gov. The scraping algorithms can be found in the current folder where this notebook reside.\n",
    "\n",
    "**Creator:** ***Muhammad Aliyu (TEAM C)***\n",
    "\n",
    "**Date of Creation:** ***Saturday September 4, 2021***\n",
    "\n",
    "**The Features used in building the model are:**\n",
    "    Make, Model, Price, Engine Type, Transmission, Drive Type, Combined MPG, Total Seating, \n",
    "    Fuel Tank Capacity, Fuel Type, Base Engine Size, Horsepower, Torque, Turning Circle, \n",
    "    Front Head Room, Front Hip Room, Front Leg Room, Front Shoulder Room, Rear Head Room, \n",
    "    Rear Hip Room, Rear Leg Room, Rear Shoulder Room, Cargo Capacity All Seats In Place, \n",
    "    Curb Weight, EPA Interior Volume, Length, Overall Width Without Mirrors, Wheel Base\n",
    "\n",
    "The number Zero in any of the features refer to a missing value\n",
    "\n",
    "**Run the following scripts in the order they appear to scrape the data before running this notebook**\n",
    "- car45.py\n",
    "- car45-mpg-extractor\n",
    "- edmunds-scaper"
   ]
  },
  {
   "cell_type": "markdown",
   "metadata": {},
   "source": [
    "# Scraping Begins"
   ]
  },
  {
   "cell_type": "markdown",
   "metadata": {},
   "source": [
    "**Scrape Data from https://www.car45.com**\n",
    "\n",
    "**Features:** Make, Model, Year, Mileage (KM), Location, Transmission, Selling Condition, Colour, Price, Used Location"
   ]
  },
  {
   "cell_type": "code",
   "execution_count": null,
   "metadata": {},
   "outputs": [],
   "source": [
    "!python car45.py"
   ]
  },
  {
   "cell_type": "markdown",
   "metadata": {},
   "source": [
    "**Scrape Data from https://fueleconomy.gov**\n",
    "\n",
    "**Features:** MPG"
   ]
  },
  {
   "cell_type": "code",
   "execution_count": null,
   "metadata": {},
   "outputs": [],
   "source": [
    "!python car45-mpg-extractor.py"
   ]
  },
  {
   "cell_type": "markdown",
   "metadata": {},
   "source": [
    "**Scrape Data from https://edmunds.com**\n",
    "\n",
    "**Features:** Make, Model, Engine Type, Transmission, Drive Type, Combined MPG, Total Seating, \n",
    "    Fuel Tank Capacity, Fuel Type, Base Engine Size, Horsepower, Torque, Turning Circle, \n",
    "    Front Head Room, Front Hip Room, Front Leg Room, Front Shoulder Room, Rear Head Room, \n",
    "    Rear Hip Room, Rear Leg Room, Rear Shoulder Room, Cargo Capacity, All Seats In Place, \n",
    "    Curb Weight, EPA Interior Volume, Length, Overall Width Without Mirrors, Wheel Base"
   ]
  },
  {
   "cell_type": "code",
   "execution_count": null,
   "metadata": {
    "scrolled": true
   },
   "outputs": [],
   "source": [
    "!python edmunds-scaper.py"
   ]
  },
  {
   "cell_type": "markdown",
   "metadata": {},
   "source": [
    "# Model Building and Analysis Begins"
   ]
  },
  {
   "cell_type": "code",
   "execution_count": 1,
   "metadata": {},
   "outputs": [],
   "source": [
    "import pandas as pd\n",
    "import numpy as np\n",
    "from sklearn.ensemble import RandomForestRegressor\n",
    "from catboost import CatBoostRegressor\n",
    "import matplotlib.pyplot as plt\n",
    "from sklearn.model_selection import KFold\n",
    "from sklearn.metrics import mean_squared_error, mean_absolute_error\n",
    "from sklearn.model_selection import train_test_split\n",
    "from sklearn.inspection import permutation_importance\n",
    "from sklearn.linear_model import Ridge, LinearRegression\n",
    "import seaborn as sns\n",
    "import scipy.stats as stats"
   ]
  },
  {
   "cell_type": "code",
   "execution_count": 2,
   "metadata": {},
   "outputs": [],
   "source": [
    "rand_state = 0"
   ]
  },
  {
   "cell_type": "code",
   "execution_count": 3,
   "metadata": {},
   "outputs": [],
   "source": [
    "car45_with_edmunds = pd.read_csv(\"car45_with_edmunds.csv\")\n",
    "car45 = pd.read_csv(\"car45.csv\")\n",
    "car45_with_mpg = pd.read_csv(\"car45_with_mpg.csv\")[\"MPG\"]"
   ]
  },
  {
   "cell_type": "code",
   "execution_count": 4,
   "metadata": {},
   "outputs": [],
   "source": [
    "col = [\"Make\", \"Model\", \"Year\", \"Transmission\", \"Selling Condition\", \"Colour\", \"Unnamed: 0\", \"Used Location\"]\n",
    "car45 = car45.drop(col, axis=1)"
   ]
  },
  {
   "cell_type": "code",
   "execution_count": 5,
   "metadata": {
    "scrolled": true
   },
   "outputs": [
    {
     "data": {
      "text/html": [
       "<div>\n",
       "<style scoped>\n",
       "    .dataframe tbody tr th:only-of-type {\n",
       "        vertical-align: middle;\n",
       "    }\n",
       "\n",
       "    .dataframe tbody tr th {\n",
       "        vertical-align: top;\n",
       "    }\n",
       "\n",
       "    .dataframe thead th {\n",
       "        text-align: right;\n",
       "    }\n",
       "</style>\n",
       "<table border=\"1\" class=\"dataframe\">\n",
       "  <thead>\n",
       "    <tr style=\"text-align: right;\">\n",
       "      <th></th>\n",
       "      <th>Mileage (KM)</th>\n",
       "      <th>Location</th>\n",
       "      <th>Price</th>\n",
       "    </tr>\n",
       "  </thead>\n",
       "  <tbody>\n",
       "    <tr>\n",
       "      <th>5213</th>\n",
       "      <td>143191.0</td>\n",
       "      <td>C45, Abuja</td>\n",
       "      <td>930000</td>\n",
       "    </tr>\n",
       "    <tr>\n",
       "      <th>5214</th>\n",
       "      <td>49844.0</td>\n",
       "      <td>C45, Port</td>\n",
       "      <td>1390000</td>\n",
       "    </tr>\n",
       "    <tr>\n",
       "      <th>5215</th>\n",
       "      <td>1249000.0</td>\n",
       "      <td>C45, Owerri</td>\n",
       "      <td>2080000</td>\n",
       "    </tr>\n",
       "    <tr>\n",
       "      <th>5216</th>\n",
       "      <td>186104.0</td>\n",
       "      <td>C45, Port</td>\n",
       "      <td>6910000</td>\n",
       "    </tr>\n",
       "    <tr>\n",
       "      <th>5217</th>\n",
       "      <td>121345.0</td>\n",
       "      <td>C45, Lagos</td>\n",
       "      <td>9500000</td>\n",
       "    </tr>\n",
       "  </tbody>\n",
       "</table>\n",
       "</div>"
      ],
      "text/plain": [
       "      Mileage (KM)     Location    Price\n",
       "5213      143191.0   C45, Abuja   930000\n",
       "5214       49844.0    C45, Port  1390000\n",
       "5215     1249000.0  C45, Owerri  2080000\n",
       "5216      186104.0    C45, Port  6910000\n",
       "5217      121345.0   C45, Lagos  9500000"
      ]
     },
     "execution_count": 5,
     "metadata": {},
     "output_type": "execute_result"
    }
   ],
   "source": [
    "car45.tail()"
   ]
  },
  {
   "cell_type": "code",
   "execution_count": 6,
   "metadata": {},
   "outputs": [],
   "source": [
    "col2 = [\"Make\", \"Model\", \"Transmission\", \"Unnamed: 0\", \"Drive Type\", \"Engine Type\"]\n",
    "car45_with_edmunds = car45_with_edmunds.drop(col2, axis=1)"
   ]
  },
  {
   "cell_type": "code",
   "execution_count": 7,
   "metadata": {},
   "outputs": [
    {
     "data": {
      "text/html": [
       "<div>\n",
       "<style scoped>\n",
       "    .dataframe tbody tr th:only-of-type {\n",
       "        vertical-align: middle;\n",
       "    }\n",
       "\n",
       "    .dataframe tbody tr th {\n",
       "        vertical-align: top;\n",
       "    }\n",
       "\n",
       "    .dataframe thead th {\n",
       "        text-align: right;\n",
       "    }\n",
       "</style>\n",
       "<table border=\"1\" class=\"dataframe\">\n",
       "  <thead>\n",
       "    <tr style=\"text-align: right;\">\n",
       "      <th></th>\n",
       "      <th>Combined MPG</th>\n",
       "      <th>Total Seating</th>\n",
       "      <th>Fuel Tank Capacity</th>\n",
       "      <th>Fuel Type</th>\n",
       "      <th>Base Engine Size</th>\n",
       "      <th>Horsepower</th>\n",
       "      <th>Torque</th>\n",
       "      <th>Turning Circle</th>\n",
       "      <th>Front Head Room</th>\n",
       "      <th>Front Hip Room</th>\n",
       "      <th>...</th>\n",
       "      <th>Rear Head Room</th>\n",
       "      <th>Rear Hip Room</th>\n",
       "      <th>Rear Leg Room</th>\n",
       "      <th>Rear Shoulder Room</th>\n",
       "      <th>Cargo Capacity, All Seats In Place</th>\n",
       "      <th>Curb Weight</th>\n",
       "      <th>EPA Interior Volume</th>\n",
       "      <th>Length</th>\n",
       "      <th>Overall Width Without Mirrors</th>\n",
       "      <th>Wheel Base</th>\n",
       "    </tr>\n",
       "  </thead>\n",
       "  <tbody>\n",
       "    <tr>\n",
       "      <th>5213</th>\n",
       "      <td>30</td>\n",
       "      <td>5</td>\n",
       "      <td>14.5</td>\n",
       "      <td>Regular unleaded</td>\n",
       "      <td>2.5</td>\n",
       "      <td>181</td>\n",
       "      <td>181</td>\n",
       "      <td>35.4</td>\n",
       "      <td>41.1</td>\n",
       "      <td>54.1</td>\n",
       "      <td>...</td>\n",
       "      <td>39.2</td>\n",
       "      <td>53.4</td>\n",
       "      <td>38.5</td>\n",
       "      <td>55.9</td>\n",
       "      <td>31.6</td>\n",
       "      <td>3371</td>\n",
       "      <td>137.0</td>\n",
       "      <td>183.0</td>\n",
       "      <td>72.4</td>\n",
       "      <td>106.5</td>\n",
       "    </tr>\n",
       "    <tr>\n",
       "      <th>5214</th>\n",
       "      <td>25</td>\n",
       "      <td>5</td>\n",
       "      <td>21.1</td>\n",
       "      <td>Premium unleaded (required)</td>\n",
       "      <td>3.0</td>\n",
       "      <td>362</td>\n",
       "      <td>369</td>\n",
       "      <td>39.0</td>\n",
       "      <td>36.9</td>\n",
       "      <td>58.9</td>\n",
       "      <td>...</td>\n",
       "      <td>35.9</td>\n",
       "      <td>58.6</td>\n",
       "      <td>35.0</td>\n",
       "      <td>56.5</td>\n",
       "      <td>11.9</td>\n",
       "      <td>0</td>\n",
       "      <td>0.0</td>\n",
       "      <td>196.4</td>\n",
       "      <td>73.9</td>\n",
       "      <td>115.7</td>\n",
       "    </tr>\n",
       "    <tr>\n",
       "      <th>5215</th>\n",
       "      <td>23</td>\n",
       "      <td>5</td>\n",
       "      <td>20.0</td>\n",
       "      <td>Premium unleaded (required)</td>\n",
       "      <td>3.0</td>\n",
       "      <td>300</td>\n",
       "      <td>295</td>\n",
       "      <td>36.7</td>\n",
       "      <td>39.5</td>\n",
       "      <td>53.2</td>\n",
       "      <td>...</td>\n",
       "      <td>36.8</td>\n",
       "      <td>52.5</td>\n",
       "      <td>35.1</td>\n",
       "      <td>56.1</td>\n",
       "      <td>13.5</td>\n",
       "      <td>3732</td>\n",
       "      <td>0.0</td>\n",
       "      <td>189.6</td>\n",
       "      <td>71.8</td>\n",
       "      <td>112.2</td>\n",
       "    </tr>\n",
       "    <tr>\n",
       "      <th>5216</th>\n",
       "      <td>32</td>\n",
       "      <td>5</td>\n",
       "      <td>15.8</td>\n",
       "      <td>Regular unleaded</td>\n",
       "      <td>1.5</td>\n",
       "      <td>160</td>\n",
       "      <td>184</td>\n",
       "      <td>37.0</td>\n",
       "      <td>39.1</td>\n",
       "      <td>54.1</td>\n",
       "      <td>...</td>\n",
       "      <td>37.5</td>\n",
       "      <td>53.4</td>\n",
       "      <td>38.1</td>\n",
       "      <td>57.1</td>\n",
       "      <td>15.7</td>\n",
       "      <td>3135</td>\n",
       "      <td>0.0</td>\n",
       "      <td>194.2</td>\n",
       "      <td>73.0</td>\n",
       "      <td>111.4</td>\n",
       "    </tr>\n",
       "    <tr>\n",
       "      <th>5217</th>\n",
       "      <td>0</td>\n",
       "      <td>0</td>\n",
       "      <td>0.0</td>\n",
       "      <td>0</td>\n",
       "      <td>0.0</td>\n",
       "      <td>0</td>\n",
       "      <td>0</td>\n",
       "      <td>0.0</td>\n",
       "      <td>0.0</td>\n",
       "      <td>0.0</td>\n",
       "      <td>...</td>\n",
       "      <td>0.0</td>\n",
       "      <td>0.0</td>\n",
       "      <td>0.0</td>\n",
       "      <td>0.0</td>\n",
       "      <td>0.0</td>\n",
       "      <td>0</td>\n",
       "      <td>0.0</td>\n",
       "      <td>0.0</td>\n",
       "      <td>0.0</td>\n",
       "      <td>0.0</td>\n",
       "    </tr>\n",
       "  </tbody>\n",
       "</table>\n",
       "<p>5 rows × 22 columns</p>\n",
       "</div>"
      ],
      "text/plain": [
       "      Combined MPG  Total Seating  Fuel Tank Capacity  \\\n",
       "5213            30              5                14.5   \n",
       "5214            25              5                21.1   \n",
       "5215            23              5                20.0   \n",
       "5216            32              5                15.8   \n",
       "5217             0              0                 0.0   \n",
       "\n",
       "                        Fuel Type  Base Engine Size  Horsepower  Torque  \\\n",
       "5213             Regular unleaded               2.5         181     181   \n",
       "5214  Premium unleaded (required)               3.0         362     369   \n",
       "5215  Premium unleaded (required)               3.0         300     295   \n",
       "5216             Regular unleaded               1.5         160     184   \n",
       "5217                            0               0.0           0       0   \n",
       "\n",
       "      Turning Circle  Front Head Room  Front Hip Room  ...  Rear Head Room  \\\n",
       "5213            35.4             41.1            54.1  ...            39.2   \n",
       "5214            39.0             36.9            58.9  ...            35.9   \n",
       "5215            36.7             39.5            53.2  ...            36.8   \n",
       "5216            37.0             39.1            54.1  ...            37.5   \n",
       "5217             0.0              0.0             0.0  ...             0.0   \n",
       "\n",
       "      Rear Hip Room  Rear Leg Room  Rear Shoulder Room  \\\n",
       "5213           53.4           38.5                55.9   \n",
       "5214           58.6           35.0                56.5   \n",
       "5215           52.5           35.1                56.1   \n",
       "5216           53.4           38.1                57.1   \n",
       "5217            0.0            0.0                 0.0   \n",
       "\n",
       "      Cargo Capacity, All Seats In Place  Curb Weight  EPA Interior Volume  \\\n",
       "5213                                31.6         3371                137.0   \n",
       "5214                                11.9            0                  0.0   \n",
       "5215                                13.5         3732                  0.0   \n",
       "5216                                15.7         3135                  0.0   \n",
       "5217                                 0.0            0                  0.0   \n",
       "\n",
       "      Length  Overall Width Without Mirrors  Wheel Base  \n",
       "5213   183.0                           72.4       106.5  \n",
       "5214   196.4                           73.9       115.7  \n",
       "5215   189.6                           71.8       112.2  \n",
       "5216   194.2                           73.0       111.4  \n",
       "5217     0.0                            0.0         0.0  \n",
       "\n",
       "[5 rows x 22 columns]"
      ]
     },
     "execution_count": 7,
     "metadata": {},
     "output_type": "execute_result"
    }
   ],
   "source": [
    "car45_with_edmunds.tail()"
   ]
  },
  {
   "cell_type": "code",
   "execution_count": 8,
   "metadata": {},
   "outputs": [],
   "source": [
    "df = pd.concat([car45, car45_with_edmunds, car45_with_mpg], axis=1)"
   ]
  },
  {
   "cell_type": "code",
   "execution_count": 9,
   "metadata": {},
   "outputs": [
    {
     "data": {
      "text/plain": [
       "5218"
      ]
     },
     "execution_count": 9,
     "metadata": {},
     "output_type": "execute_result"
    }
   ],
   "source": [
    "len(df)"
   ]
  },
  {
   "cell_type": "code",
   "execution_count": 10,
   "metadata": {},
   "outputs": [
    {
     "data": {
      "text/html": [
       "<div>\n",
       "<style scoped>\n",
       "    .dataframe tbody tr th:only-of-type {\n",
       "        vertical-align: middle;\n",
       "    }\n",
       "\n",
       "    .dataframe tbody tr th {\n",
       "        vertical-align: top;\n",
       "    }\n",
       "\n",
       "    .dataframe thead th {\n",
       "        text-align: right;\n",
       "    }\n",
       "</style>\n",
       "<table border=\"1\" class=\"dataframe\">\n",
       "  <thead>\n",
       "    <tr style=\"text-align: right;\">\n",
       "      <th></th>\n",
       "      <th>Mileage (KM)</th>\n",
       "      <th>Location</th>\n",
       "      <th>Price</th>\n",
       "      <th>Combined MPG</th>\n",
       "      <th>Total Seating</th>\n",
       "      <th>Fuel Tank Capacity</th>\n",
       "      <th>Fuel Type</th>\n",
       "      <th>Base Engine Size</th>\n",
       "      <th>Horsepower</th>\n",
       "      <th>Torque</th>\n",
       "      <th>...</th>\n",
       "      <th>Rear Hip Room</th>\n",
       "      <th>Rear Leg Room</th>\n",
       "      <th>Rear Shoulder Room</th>\n",
       "      <th>Cargo Capacity, All Seats In Place</th>\n",
       "      <th>Curb Weight</th>\n",
       "      <th>EPA Interior Volume</th>\n",
       "      <th>Length</th>\n",
       "      <th>Overall Width Without Mirrors</th>\n",
       "      <th>Wheel Base</th>\n",
       "      <th>MPG</th>\n",
       "    </tr>\n",
       "  </thead>\n",
       "  <tbody>\n",
       "    <tr>\n",
       "      <th>5213</th>\n",
       "      <td>143191.0</td>\n",
       "      <td>C45, Abuja</td>\n",
       "      <td>930000</td>\n",
       "      <td>30</td>\n",
       "      <td>5</td>\n",
       "      <td>14.5</td>\n",
       "      <td>Regular unleaded</td>\n",
       "      <td>2.5</td>\n",
       "      <td>181</td>\n",
       "      <td>181</td>\n",
       "      <td>...</td>\n",
       "      <td>53.4</td>\n",
       "      <td>38.5</td>\n",
       "      <td>55.9</td>\n",
       "      <td>31.6</td>\n",
       "      <td>3371</td>\n",
       "      <td>137.0</td>\n",
       "      <td>183.0</td>\n",
       "      <td>72.4</td>\n",
       "      <td>106.5</td>\n",
       "      <td>18</td>\n",
       "    </tr>\n",
       "    <tr>\n",
       "      <th>5214</th>\n",
       "      <td>49844.0</td>\n",
       "      <td>C45, Port</td>\n",
       "      <td>1390000</td>\n",
       "      <td>25</td>\n",
       "      <td>5</td>\n",
       "      <td>21.1</td>\n",
       "      <td>Premium unleaded (required)</td>\n",
       "      <td>3.0</td>\n",
       "      <td>362</td>\n",
       "      <td>369</td>\n",
       "      <td>...</td>\n",
       "      <td>58.6</td>\n",
       "      <td>35.0</td>\n",
       "      <td>56.5</td>\n",
       "      <td>11.9</td>\n",
       "      <td>0</td>\n",
       "      <td>0.0</td>\n",
       "      <td>196.4</td>\n",
       "      <td>73.9</td>\n",
       "      <td>115.7</td>\n",
       "      <td>16</td>\n",
       "    </tr>\n",
       "    <tr>\n",
       "      <th>5215</th>\n",
       "      <td>1249000.0</td>\n",
       "      <td>C45, Owerri</td>\n",
       "      <td>2080000</td>\n",
       "      <td>23</td>\n",
       "      <td>5</td>\n",
       "      <td>20.0</td>\n",
       "      <td>Premium unleaded (required)</td>\n",
       "      <td>3.0</td>\n",
       "      <td>300</td>\n",
       "      <td>295</td>\n",
       "      <td>...</td>\n",
       "      <td>52.5</td>\n",
       "      <td>35.1</td>\n",
       "      <td>56.1</td>\n",
       "      <td>13.5</td>\n",
       "      <td>3732</td>\n",
       "      <td>0.0</td>\n",
       "      <td>189.6</td>\n",
       "      <td>71.8</td>\n",
       "      <td>112.2</td>\n",
       "      <td>0</td>\n",
       "    </tr>\n",
       "    <tr>\n",
       "      <th>5216</th>\n",
       "      <td>186104.0</td>\n",
       "      <td>C45, Port</td>\n",
       "      <td>6910000</td>\n",
       "      <td>32</td>\n",
       "      <td>5</td>\n",
       "      <td>15.8</td>\n",
       "      <td>Regular unleaded</td>\n",
       "      <td>1.5</td>\n",
       "      <td>160</td>\n",
       "      <td>184</td>\n",
       "      <td>...</td>\n",
       "      <td>53.4</td>\n",
       "      <td>38.1</td>\n",
       "      <td>57.1</td>\n",
       "      <td>15.7</td>\n",
       "      <td>3135</td>\n",
       "      <td>0.0</td>\n",
       "      <td>194.2</td>\n",
       "      <td>73.0</td>\n",
       "      <td>111.4</td>\n",
       "      <td>18</td>\n",
       "    </tr>\n",
       "    <tr>\n",
       "      <th>5217</th>\n",
       "      <td>121345.0</td>\n",
       "      <td>C45, Lagos</td>\n",
       "      <td>9500000</td>\n",
       "      <td>0</td>\n",
       "      <td>0</td>\n",
       "      <td>0.0</td>\n",
       "      <td>0</td>\n",
       "      <td>0.0</td>\n",
       "      <td>0</td>\n",
       "      <td>0</td>\n",
       "      <td>...</td>\n",
       "      <td>0.0</td>\n",
       "      <td>0.0</td>\n",
       "      <td>0.0</td>\n",
       "      <td>0.0</td>\n",
       "      <td>0</td>\n",
       "      <td>0.0</td>\n",
       "      <td>0.0</td>\n",
       "      <td>0.0</td>\n",
       "      <td>0.0</td>\n",
       "      <td>0</td>\n",
       "    </tr>\n",
       "  </tbody>\n",
       "</table>\n",
       "<p>5 rows × 26 columns</p>\n",
       "</div>"
      ],
      "text/plain": [
       "      Mileage (KM)     Location    Price  Combined MPG  Total Seating  \\\n",
       "5213      143191.0   C45, Abuja   930000            30              5   \n",
       "5214       49844.0    C45, Port  1390000            25              5   \n",
       "5215     1249000.0  C45, Owerri  2080000            23              5   \n",
       "5216      186104.0    C45, Port  6910000            32              5   \n",
       "5217      121345.0   C45, Lagos  9500000             0              0   \n",
       "\n",
       "      Fuel Tank Capacity                    Fuel Type  Base Engine Size  \\\n",
       "5213                14.5             Regular unleaded               2.5   \n",
       "5214                21.1  Premium unleaded (required)               3.0   \n",
       "5215                20.0  Premium unleaded (required)               3.0   \n",
       "5216                15.8             Regular unleaded               1.5   \n",
       "5217                 0.0                            0               0.0   \n",
       "\n",
       "      Horsepower  Torque  ...  Rear Hip Room  Rear Leg Room  \\\n",
       "5213         181     181  ...           53.4           38.5   \n",
       "5214         362     369  ...           58.6           35.0   \n",
       "5215         300     295  ...           52.5           35.1   \n",
       "5216         160     184  ...           53.4           38.1   \n",
       "5217           0       0  ...            0.0            0.0   \n",
       "\n",
       "      Rear Shoulder Room  Cargo Capacity, All Seats In Place  Curb Weight  \\\n",
       "5213                55.9                                31.6         3371   \n",
       "5214                56.5                                11.9            0   \n",
       "5215                56.1                                13.5         3732   \n",
       "5216                57.1                                15.7         3135   \n",
       "5217                 0.0                                 0.0            0   \n",
       "\n",
       "      EPA Interior Volume  Length  Overall Width Without Mirrors  Wheel Base  \\\n",
       "5213                137.0   183.0                           72.4       106.5   \n",
       "5214                  0.0   196.4                           73.9       115.7   \n",
       "5215                  0.0   189.6                           71.8       112.2   \n",
       "5216                  0.0   194.2                           73.0       111.4   \n",
       "5217                  0.0     0.0                            0.0         0.0   \n",
       "\n",
       "      MPG  \n",
       "5213   18  \n",
       "5214   16  \n",
       "5215    0  \n",
       "5216   18  \n",
       "5217    0  \n",
       "\n",
       "[5 rows x 26 columns]"
      ]
     },
     "execution_count": 10,
     "metadata": {},
     "output_type": "execute_result"
    }
   ],
   "source": [
    "df.tail()"
   ]
  },
  {
   "cell_type": "code",
   "execution_count": 11,
   "metadata": {},
   "outputs": [
    {
     "data": {
      "text/plain": [
       "Index(['Mileage (KM)', 'Location', 'Price', 'Combined MPG', 'Total Seating',\n",
       "       'Fuel Tank Capacity', 'Fuel Type', 'Base Engine Size', 'Horsepower',\n",
       "       'Torque', 'Turning Circle', 'Front Head Room', 'Front Hip Room',\n",
       "       'Front Leg Room', 'Front Shoulder Room', 'Rear Head Room',\n",
       "       'Rear Hip Room', 'Rear Leg Room', 'Rear Shoulder Room',\n",
       "       'Cargo Capacity, All Seats In Place', 'Curb Weight',\n",
       "       'EPA Interior Volume', 'Length', 'Overall Width Without Mirrors',\n",
       "       'Wheel Base', 'MPG'],\n",
       "      dtype='object')"
      ]
     },
     "execution_count": 11,
     "metadata": {},
     "output_type": "execute_result"
    }
   ],
   "source": [
    "df.columns"
   ]
  },
  {
   "cell_type": "markdown",
   "metadata": {},
   "source": [
    "# CO2 Emission Calculation from some features"
   ]
  },
  {
   "cell_type": "code",
   "execution_count": 12,
   "metadata": {},
   "outputs": [],
   "source": [
    "df['kg_for_co2'] = df['Fuel Type'].apply(lambda x: 2.31 if x == \"Regular unleaded\" else 2.61)\n",
    "df[\"CO2 emission(kg)\"] = (df[\"Mileage (KM)\"]*3.785411784*df.kg_for_co2)/df[\"Combined MPG\"]\n",
    "base_engine_size = []\n",
    "for i in range(len(df)):\n",
    "    # Petrol\n",
    "    if df[\"Base Engine Size\"].iloc[i] <= 1.4 and df['kg_for_co2'].iloc[i] == 2.31:\n",
    "        base_engine_size.append(0.17)\n",
    "    elif df[\"Base Engine Size\"].iloc[i] > 1.4 and df[\"Base Engine Size\"].iloc[i] <= 2.1 and df['kg_for_co2'].iloc[i] == 2.31:\n",
    "        base_engine_size.append(0.22)\n",
    "    elif df[\"Base Engine Size\"].iloc[i] > 2.1 and df['kg_for_co2'].iloc[i] == 2.31:\n",
    "        base_engine_size.append(0.27)\n",
    "    # Diesel\n",
    "    if df[\"Base Engine Size\"].iloc[i] <= 2 and df['kg_for_co2'].iloc[i] == 2.61:\n",
    "        base_engine_size.append(0.12)\n",
    "    elif df[\"Base Engine Size\"].iloc[i] > 2 and df['kg_for_co2'].iloc[i] == 2.61:\n",
    "        base_engine_size.append(0.14)\n",
    "df[\"Q\"] = base_engine_size\n",
    "df[\"CO2 emission(g/km)\"] = np.round(df[\"CO2 emission(kg)\"] * 1000 * df[\"Q\"])"
   ]
  },
  {
   "cell_type": "markdown",
   "metadata": {},
   "source": [
    "# Cars Features For Different States in Nigeria"
   ]
  },
  {
   "cell_type": "code",
   "execution_count": 13,
   "metadata": {},
   "outputs": [],
   "source": [
    "# Remove all rows where values are equal 0\n",
    "df = df[(df != 0).all(axis=1)]"
   ]
  },
  {
   "cell_type": "code",
   "execution_count": 14,
   "metadata": {},
   "outputs": [],
   "source": [
    "def Calculation(name):\n",
    "    location = df.groupby(\"Location\")[name].mean()\n",
    "    location = np.round(location).sort_values()\n",
    "    location.plot(kind='bar', title=name, ylabel='{0} {1}'.format('Mean', name), xlabel='Location', figsize=(10, 5))"
   ]
  },
  {
   "cell_type": "markdown",
   "metadata": {},
   "source": [
    "**CO2 Emissions By States**"
   ]
  },
  {
   "cell_type": "code",
   "execution_count": 15,
   "metadata": {},
   "outputs": [
    {
     "data": {
      "image/png": "[encoded data removed]",
      "text/plain": [
       "<Figure size 720x360 with 1 Axes>"
      ]
     },
     "metadata": {
      "needs_background": "light"
     },
     "output_type": "display_data"
    }
   ],
   "source": [
    "Calculation(\"CO2 emission(g/km)\")"
   ]
  },
  {
   "cell_type": "markdown",
   "metadata": {},
   "source": [
    "**States with the most expensive cars**"
   ]
  },
  {
   "cell_type": "code",
   "execution_count": 16,
   "metadata": {},
   "outputs": [
    {
     "data": {
      "image/png": "[encoded data removed]",
      "text/plain": [
       "<Figure size 720x360 with 1 Axes>"
      ]
     },
     "metadata": {
      "needs_background": "light"
     },
     "output_type": "display_data"
    }
   ],
   "source": [
    "Calculation(\"Price\")"
   ]
  },
  {
   "cell_type": "markdown",
   "metadata": {},
   "source": [
    "**States the most mileages cars**"
   ]
  },
  {
   "cell_type": "code",
   "execution_count": 17,
   "metadata": {},
   "outputs": [
    {
     "data": {
      "image/png": "[encoded data removed]",
      "text/plain": [
       "<Figure size 720x360 with 1 Axes>"
      ]
     },
     "metadata": {
      "needs_background": "light"
     },
     "output_type": "display_data"
    }
   ],
   "source": [
    "Calculation(\"Mileage (KM)\")"
   ]
  },
  {
   "cell_type": "markdown",
   "metadata": {},
   "source": [
    "**States with cars that have more Curb Weight**"
   ]
  },
  {
   "cell_type": "code",
   "execution_count": 18,
   "metadata": {},
   "outputs": [
    {
     "data": {
      "image/png": "[encoded data removed]",
      "text/plain": [
       "<Figure size 720x360 with 1 Axes>"
      ]
     },
     "metadata": {
      "needs_background": "light"
     },
     "output_type": "display_data"
    }
   ],
   "source": [
    "Calculation(\"Curb Weight\")"
   ]
  },
  {
   "cell_type": "code",
   "execution_count": 19,
   "metadata": {},
   "outputs": [
    {
     "data": {
      "image/png": "[encoded data removed]",
      "text/plain": [
       "<Figure size 720x360 with 1 Axes>"
      ]
     },
     "metadata": {
      "needs_background": "light"
     },
     "output_type": "display_data"
    }
   ],
   "source": [
    "Calculation(\"Length\")"
   ]
  },
  {
   "cell_type": "markdown",
   "metadata": {},
   "source": [
    "**States with cars with the most Cargo Capacity cars**"
   ]
  },
  {
   "cell_type": "code",
   "execution_count": 20,
   "metadata": {},
   "outputs": [
    {
     "data": {
      "image/png": "[encoded data removed]",
      "text/plain": [
       "<Figure size 720x360 with 1 Axes>"
      ]
     },
     "metadata": {
      "needs_background": "light"
     },
     "output_type": "display_data"
    }
   ],
   "source": [
    "Calculation(\"Cargo Capacity, All Seats In Place\")"
   ]
  },
  {
   "cell_type": "code",
   "execution_count": 21,
   "metadata": {},
   "outputs": [],
   "source": [
    "df = df.drop([\"Location\"], axis=1)"
   ]
  },
  {
   "cell_type": "code",
   "execution_count": 22,
   "metadata": {
    "scrolled": false
   },
   "outputs": [
    {
     "data": {
      "text/html": [
       "<div>\n",
       "<style scoped>\n",
       "    .dataframe tbody tr th:only-of-type {\n",
       "        vertical-align: middle;\n",
       "    }\n",
       "\n",
       "    .dataframe tbody tr th {\n",
       "        vertical-align: top;\n",
       "    }\n",
       "\n",
       "    .dataframe thead th {\n",
       "        text-align: right;\n",
       "    }\n",
       "</style>\n",
       "<table border=\"1\" class=\"dataframe\">\n",
       "  <thead>\n",
       "    <tr style=\"text-align: right;\">\n",
       "      <th></th>\n",
       "      <th>Mileage (KM)</th>\n",
       "      <th>Price</th>\n",
       "      <th>Combined MPG</th>\n",
       "      <th>Total Seating</th>\n",
       "      <th>Fuel Tank Capacity</th>\n",
       "      <th>Fuel Type</th>\n",
       "      <th>Base Engine Size</th>\n",
       "      <th>Horsepower</th>\n",
       "      <th>Torque</th>\n",
       "      <th>Turning Circle</th>\n",
       "      <th>...</th>\n",
       "      <th>Curb Weight</th>\n",
       "      <th>EPA Interior Volume</th>\n",
       "      <th>Length</th>\n",
       "      <th>Overall Width Without Mirrors</th>\n",
       "      <th>Wheel Base</th>\n",
       "      <th>MPG</th>\n",
       "      <th>kg_for_co2</th>\n",
       "      <th>CO2 emission(kg)</th>\n",
       "      <th>Q</th>\n",
       "      <th>CO2 emission(g/km)</th>\n",
       "    </tr>\n",
       "  </thead>\n",
       "  <tbody>\n",
       "    <tr>\n",
       "      <th>5186</th>\n",
       "      <td>155341.0</td>\n",
       "      <td>2310000</td>\n",
       "      <td>29</td>\n",
       "      <td>5</td>\n",
       "      <td>14.5</td>\n",
       "      <td>Regular unleaded</td>\n",
       "      <td>2.5</td>\n",
       "      <td>203</td>\n",
       "      <td>184</td>\n",
       "      <td>36.1</td>\n",
       "      <td>...</td>\n",
       "      <td>3490</td>\n",
       "      <td>136.4</td>\n",
       "      <td>180.9</td>\n",
       "      <td>73.0</td>\n",
       "      <td>105.9</td>\n",
       "      <td>20</td>\n",
       "      <td>2.31</td>\n",
       "      <td>46839.603310</td>\n",
       "      <td>0.27</td>\n",
       "      <td>12646693.0</td>\n",
       "    </tr>\n",
       "    <tr>\n",
       "      <th>5188</th>\n",
       "      <td>126078.0</td>\n",
       "      <td>5472500</td>\n",
       "      <td>29</td>\n",
       "      <td>5</td>\n",
       "      <td>14.5</td>\n",
       "      <td>Regular unleaded</td>\n",
       "      <td>2.5</td>\n",
       "      <td>203</td>\n",
       "      <td>184</td>\n",
       "      <td>36.1</td>\n",
       "      <td>...</td>\n",
       "      <td>3490</td>\n",
       "      <td>136.4</td>\n",
       "      <td>180.9</td>\n",
       "      <td>73.0</td>\n",
       "      <td>105.9</td>\n",
       "      <td>36</td>\n",
       "      <td>2.31</td>\n",
       "      <td>38016.000322</td>\n",
       "      <td>0.27</td>\n",
       "      <td>10264320.0</td>\n",
       "    </tr>\n",
       "    <tr>\n",
       "      <th>5205</th>\n",
       "      <td>59335.0</td>\n",
       "      <td>5185000</td>\n",
       "      <td>26</td>\n",
       "      <td>7</td>\n",
       "      <td>17.7</td>\n",
       "      <td>Regular unleaded</td>\n",
       "      <td>2.5</td>\n",
       "      <td>191</td>\n",
       "      <td>181</td>\n",
       "      <td>37.9</td>\n",
       "      <td>...</td>\n",
       "      <td>3794</td>\n",
       "      <td>121.3</td>\n",
       "      <td>189.0</td>\n",
       "      <td>74.8</td>\n",
       "      <td>110.8</td>\n",
       "      <td>42</td>\n",
       "      <td>2.31</td>\n",
       "      <td>19955.504344</td>\n",
       "      <td>0.27</td>\n",
       "      <td>5387986.0</td>\n",
       "    </tr>\n",
       "    <tr>\n",
       "      <th>5207</th>\n",
       "      <td>66866.0</td>\n",
       "      <td>3345000</td>\n",
       "      <td>29</td>\n",
       "      <td>5</td>\n",
       "      <td>14.5</td>\n",
       "      <td>Regular unleaded</td>\n",
       "      <td>2.5</td>\n",
       "      <td>203</td>\n",
       "      <td>184</td>\n",
       "      <td>36.1</td>\n",
       "      <td>...</td>\n",
       "      <td>3490</td>\n",
       "      <td>136.4</td>\n",
       "      <td>180.9</td>\n",
       "      <td>73.0</td>\n",
       "      <td>105.9</td>\n",
       "      <td>17</td>\n",
       "      <td>2.31</td>\n",
       "      <td>20161.946395</td>\n",
       "      <td>0.27</td>\n",
       "      <td>5443726.0</td>\n",
       "    </tr>\n",
       "    <tr>\n",
       "      <th>5213</th>\n",
       "      <td>143191.0</td>\n",
       "      <td>930000</td>\n",
       "      <td>30</td>\n",
       "      <td>5</td>\n",
       "      <td>14.5</td>\n",
       "      <td>Regular unleaded</td>\n",
       "      <td>2.5</td>\n",
       "      <td>181</td>\n",
       "      <td>181</td>\n",
       "      <td>35.4</td>\n",
       "      <td>...</td>\n",
       "      <td>3371</td>\n",
       "      <td>137.0</td>\n",
       "      <td>183.0</td>\n",
       "      <td>72.4</td>\n",
       "      <td>106.5</td>\n",
       "      <td>18</td>\n",
       "      <td>2.31</td>\n",
       "      <td>41736.841205</td>\n",
       "      <td>0.27</td>\n",
       "      <td>11268947.0</td>\n",
       "    </tr>\n",
       "  </tbody>\n",
       "</table>\n",
       "<p>5 rows × 29 columns</p>\n",
       "</div>"
      ],
      "text/plain": [
       "      Mileage (KM)    Price  Combined MPG  Total Seating  Fuel Tank Capacity  \\\n",
       "5186      155341.0  2310000            29              5                14.5   \n",
       "5188      126078.0  5472500            29              5                14.5   \n",
       "5205       59335.0  5185000            26              7                17.7   \n",
       "5207       66866.0  3345000            29              5                14.5   \n",
       "5213      143191.0   930000            30              5                14.5   \n",
       "\n",
       "             Fuel Type  Base Engine Size  Horsepower  Torque  Turning Circle  \\\n",
       "5186  Regular unleaded               2.5         203     184            36.1   \n",
       "5188  Regular unleaded               2.5         203     184            36.1   \n",
       "5205  Regular unleaded               2.5         191     181            37.9   \n",
       "5207  Regular unleaded               2.5         203     184            36.1   \n",
       "5213  Regular unleaded               2.5         181     181            35.4   \n",
       "\n",
       "      ...  Curb Weight  EPA Interior Volume  Length  \\\n",
       "5186  ...         3490                136.4   180.9   \n",
       "5188  ...         3490                136.4   180.9   \n",
       "5205  ...         3794                121.3   189.0   \n",
       "5207  ...         3490                136.4   180.9   \n",
       "5213  ...         3371                137.0   183.0   \n",
       "\n",
       "      Overall Width Without Mirrors  Wheel Base  MPG  kg_for_co2  \\\n",
       "5186                           73.0       105.9   20        2.31   \n",
       "5188                           73.0       105.9   36        2.31   \n",
       "5205                           74.8       110.8   42        2.31   \n",
       "5207                           73.0       105.9   17        2.31   \n",
       "5213                           72.4       106.5   18        2.31   \n",
       "\n",
       "      CO2 emission(kg)     Q  CO2 emission(g/km)  \n",
       "5186      46839.603310  0.27          12646693.0  \n",
       "5188      38016.000322  0.27          10264320.0  \n",
       "5205      19955.504344  0.27           5387986.0  \n",
       "5207      20161.946395  0.27           5443726.0  \n",
       "5213      41736.841205  0.27          11268947.0  \n",
       "\n",
       "[5 rows x 29 columns]"
      ]
     },
     "execution_count": 22,
     "metadata": {},
     "output_type": "execute_result"
    }
   ],
   "source": [
    "df.tail()"
   ]
  },
  {
   "cell_type": "code",
   "execution_count": 23,
   "metadata": {},
   "outputs": [],
   "source": [
    "features = [\"Fuel Type\", \"CO2 emission(kg)\", \"kg_for_co2\", \"Q\", \"Combined MPG\"]\n",
    "df = df.drop(features, axis=1)"
   ]
  },
  {
   "cell_type": "code",
   "execution_count": 24,
   "metadata": {},
   "outputs": [
    {
     "data": {
      "text/plain": [
       "1749"
      ]
     },
     "execution_count": 24,
     "metadata": {},
     "output_type": "execute_result"
    }
   ],
   "source": [
    "len(df)"
   ]
  },
  {
   "cell_type": "code",
   "execution_count": 25,
   "metadata": {},
   "outputs": [],
   "source": [
    "# dropping duplicate rows\n",
    "df.drop_duplicates(inplace=True)"
   ]
  },
  {
   "cell_type": "code",
   "execution_count": 26,
   "metadata": {},
   "outputs": [
    {
     "data": {
      "text/plain": [
       "1746"
      ]
     },
     "execution_count": 26,
     "metadata": {},
     "output_type": "execute_result"
    }
   ],
   "source": [
    "len(df)"
   ]
  },
  {
   "cell_type": "code",
   "execution_count": 27,
   "metadata": {},
   "outputs": [],
   "source": [
    "df = df.sample(frac=1, random_state=rand_state).reset_index(drop=True)"
   ]
  },
  {
   "cell_type": "markdown",
   "metadata": {},
   "source": [
    "# Visualization of some features and Check for Rare Values"
   ]
  },
  {
   "cell_type": "code",
   "execution_count": 28,
   "metadata": {},
   "outputs": [],
   "source": [
    "def discrete_info(df, variable):\n",
    "    # function takes a dataframe (df) and\n",
    "    # the variable of interest as arguments\n",
    "    \n",
    "    # inspect unique values\n",
    "    print(df[variable].unique())\n",
    "    print(\"Total:\", df[variable].nunique())\n",
    "    \n",
    "    # count each discrete occurrance\n",
    "    print(df[variable].value_counts())\n",
    "    \n",
    "    # count null occurrance\n",
    "    print(\"Null Count:\", df[variable].isnull().sum())\n",
    "\n",
    "    # define figure size\n",
    "    plt.figure(figsize=(16, 4))\n",
    "    \n",
    "    # histogram\n",
    "    plt.subplot(1, 4, 1)\n",
    "    sns.histplot(df[variable], bins=20)\n",
    "    plt.title(f'{variable} Histogram')\n",
    "\n",
    "    # Q-Q plot\n",
    "    plt.subplot(1, 4, 2)\n",
    "    stats.probplot(df[variable], dist=\"norm\", plot=plt)\n",
    "    plt.ylabel(f'{variable} Quantiles')\n",
    "\n",
    "    # boxplot\n",
    "    plt.subplot(1, 4, 3)\n",
    "    sns.boxplot(y=df[variable])\n",
    "    plt.title(f'{variable} Boxplot')\n",
    "    \n",
    "    # kde\n",
    "    plt.subplot(1, 4, 4)\n",
    "    sns.kdeplot(x=df[variable])\n",
    "    plt.title(f'{variable} KDE')\n",
    "\n",
    "    plt.show()"
   ]
  },
  {
   "cell_type": "code",
   "execution_count": 29,
   "metadata": {},
   "outputs": [],
   "source": [
    "def categorical_info(df, variable):\n",
    "    # function takes a dataframe (df) and\n",
    "    # the variable of interest as arguments\n",
    "    \n",
    "    # inspect unique values\n",
    "    print(df[variable].unique())\n",
    "    print(\"Total:\", df[variable].nunique())\n",
    "    \n",
    "    # count each categorical occurrance\n",
    "    print(df[variable].value_counts())\n",
    "    \n",
    "    # count null occurrance\n",
    "    print(\"Null Count:\", df[variable].isnull().sum())\n",
    "\n",
    "    # define figure size\n",
    "    plt.figure(figsize=(16, 4))\n",
    "\n",
    "    # histograms of discrete variables often show\n",
    "    # a bar plot shape, instead of continuous intervals\n",
    "    # df[variable].hist(bins=20)\n",
    "    \n",
    "    # now let's calculate the frequency for each category\n",
    "    label_freq = df[variable].value_counts() / len(df)\n",
    "\n",
    "    # let's make plot with the category frequencies\n",
    "    fig = label_freq.sort_values(ascending=False).plot.bar()\n",
    "\n",
    "    # add a line to signal 5 % frequency limit\n",
    "    # under which we will consider a category as rare\n",
    "    fig.axhline(y=0.05, color='red')\n",
    "\n",
    "    # add axis labels and title\n",
    "    fig.set_ylabel('percentage within each category')\n",
    "    fig.set_xlabel('Variable: class')\n",
    "    fig.set_title('Identifying Rare Categories')\n",
    "    plt.show()"
   ]
  },
  {
   "cell_type": "code",
   "execution_count": 30,
   "metadata": {},
   "outputs": [
    {
     "name": "stdout",
     "output_type": "stream",
     "text": [
      "[19469627.  6058308. 12367660. ...  9376637. 10634819.  9965181.]\n",
      "Total: 1730\n",
      "17488544.0    7\n",
      "81.0          3\n",
      "24423656.0    3\n",
      "8141165.0     2\n",
      "15961727.0    2\n",
      "             ..\n",
      "13676072.0    1\n",
      "5232435.0     1\n",
      "9023106.0     1\n",
      "10268309.0    1\n",
      "2011213.0     1\n",
      "Name: CO2 emission(g/km), Length: 1730, dtype: int64\n",
      "Null Count: 0\n"
     ]
    },
    {
     "data": {
      "image/png": "[encoded data removed]",
      "text/plain": [
       "<Figure size 1152x288 with 4 Axes>"
      ]
     },
     "metadata": {
      "needs_background": "light"
     },
     "output_type": "display_data"
    }
   ],
   "source": [
    "discrete_info(df, \"CO2 emission(g/km)\")"
   ]
  },
  {
   "cell_type": "code",
   "execution_count": 31,
   "metadata": {},
   "outputs": [
    {
     "name": "stdout",
     "output_type": "stream",
     "text": [
      "[239148.  74415. 157152. ... 119146. 182430. 170943.]\n",
      "Total: 1724\n",
      "299999.0    10\n",
      "1.0          4\n",
      "999999.0     3\n",
      "113100.0     2\n",
      "199111.0     2\n",
      "            ..\n",
      "99688.0      1\n",
      "135330.0     1\n",
      "146091.0     1\n",
      "146314.0     1\n",
      "184320.0     1\n",
      "Name: Mileage (KM), Length: 1724, dtype: int64\n",
      "Null Count: 0\n"
     ]
    },
    {
     "data": {
      "image/png": "[encoded data removed]",
      "text/plain": [
       "<Figure size 1152x288 with 4 Axes>"
      ]
     },
     "metadata": {
      "needs_background": "light"
     },
     "output_type": "display_data"
    }
   ],
   "source": [
    "discrete_info(df, \"Mileage (KM)\")"
   ]
  },
  {
   "cell_type": "code",
   "execution_count": 32,
   "metadata": {},
   "outputs": [
    {
     "name": "stdout",
     "output_type": "stream",
     "text": [
      "[180.9 183.  182.3 192.8 189.  172.6 189.8 198.4 179.1 192.1 182.1 167.9\n",
      " 185.4 191.3 196.5 173.4 167.6 190.5]\n",
      "Total: 18\n",
      "180.9    1202\n",
      "182.3     245\n",
      "183.0     113\n",
      "189.0      67\n",
      "172.6      47\n",
      "192.8      33\n",
      "189.8      18\n",
      "167.9       7\n",
      "198.4       4\n",
      "192.1       2\n",
      "190.5       1\n",
      "185.4       1\n",
      "191.3       1\n",
      "182.1       1\n",
      "167.6       1\n",
      "196.5       1\n",
      "173.4       1\n",
      "179.1       1\n",
      "Name: Length, dtype: int64\n",
      "Null Count: 0\n"
     ]
    },
    {
     "data": {
      "image/png": "[encoded data removed]",
      "text/plain": [
       "<Figure size 1152x288 with 1 Axes>"
      ]
     },
     "metadata": {
      "needs_background": "light"
     },
     "output_type": "display_data"
    }
   ],
   "source": [
    "categorical_info(df, \"Length\")"
   ]
  },
  {
   "cell_type": "code",
   "execution_count": 33,
   "metadata": {},
   "outputs": [
    {
     "name": "stdout",
     "output_type": "stream",
     "text": [
      "[203 181 139 300 191 120 293 292 260 187 182 275 241 280 177 155]\n",
      "Total: 16\n",
      "203    1204\n",
      "139     245\n",
      "181     113\n",
      "191      67\n",
      "120      47\n",
      "300      19\n",
      "293      18\n",
      "260      14\n",
      "275       7\n",
      "292       4\n",
      "280       2\n",
      "182       2\n",
      "241       1\n",
      "187       1\n",
      "177       1\n",
      "155       1\n",
      "Name: Horsepower, dtype: int64\n",
      "Null Count: 0\n"
     ]
    },
    {
     "data": {
      "image/png": "[encoded data removed]",
      "text/plain": [
       "<Figure size 1152x288 with 1 Axes>"
      ]
     },
     "metadata": {
      "needs_background": "light"
     },
     "output_type": "display_data"
    }
   ],
   "source": [
    "categorical_info(df, \"Horsepower\")"
   ]
  },
  {
   "cell_type": "code",
   "execution_count": 34,
   "metadata": {},
   "outputs": [
    {
     "name": "stdout",
     "output_type": "stream",
     "text": [
      "[3490 3371 2910 3612 3794 2767 4746 3957 3833 3691 3310 3541 3106 3715\n",
      " 3637 4041 3184 3124 4215]\n",
      "Total: 19\n",
      "3490    1202\n",
      "2910     245\n",
      "3371     113\n",
      "3794      67\n",
      "2767      47\n",
      "3612      19\n",
      "4746      18\n",
      "3833      14\n",
      "3106       7\n",
      "3957       4\n",
      "3310       2\n",
      "3124       1\n",
      "4041       1\n",
      "3184       1\n",
      "3541       1\n",
      "3637       1\n",
      "3691       1\n",
      "3715       1\n",
      "4215       1\n",
      "Name: Curb Weight, dtype: int64\n",
      "Null Count: 0\n"
     ]
    },
    {
     "data": {
      "image/png": "[encoded data removed]",
      "text/plain": [
       "<Figure size 1152x288 with 1 Axes>"
      ]
     },
     "metadata": {
      "needs_background": "light"
     },
     "output_type": "display_data"
    }
   ],
   "source": [
    "categorical_info(df, \"Curb Weight\")"
   ]
  },
  {
   "cell_type": "markdown",
   "metadata": {},
   "source": [
    "# Remove some features that are highly correlated with other features and also remove unnecessary features"
   ]
  },
  {
   "cell_type": "markdown",
   "metadata": {},
   "source": [
    "***Rear Hip Room*** and ***Front Leg Room*** has strong a negative correlation with ***Cargo Capacity All Seats In Place***\n",
    "\n",
    "***Torque***, ***Horsepower*** and ***Fuel Tank Capacity*** has a strong positive correlation with ***Curb Weight***\n",
    "\n",
    "***Front Hip Room*** has a strong positive correlation with ***Total Seating***\n",
    "\n",
    "***EPA Interior Volume*** has a strong positive correlation with ***Overall Width Without Mirrors***\n",
    "\n",
    "***Front Shoulder Room*** has a strong positive correlation with ***Overall Width Without Mirrors***\n",
    "\n",
    "***Rear Shoulder Room*** and ***Overall Width Without Mirrors*** has a strong positive correlation with ***Curb Weight***\n",
    "\n",
    "***Front Head Room*** and ***Front Leg Room*** has strong a negative correlation with ***Cargo Capacity All Seats In Place***\n",
    "\n",
    "***Total Seating*** and ***Wheel Base*** has a strong positive correlation with ***Length***"
   ]
  },
  {
   "cell_type": "code",
   "execution_count": 35,
   "metadata": {},
   "outputs": [
    {
     "data": {
      "text/html": [
       "<div>\n",
       "<style scoped>\n",
       "    .dataframe tbody tr th:only-of-type {\n",
       "        vertical-align: middle;\n",
       "    }\n",
       "\n",
       "    .dataframe tbody tr th {\n",
       "        vertical-align: top;\n",
       "    }\n",
       "\n",
       "    .dataframe thead th {\n",
       "        text-align: right;\n",
       "    }\n",
       "</style>\n",
       "<table border=\"1\" class=\"dataframe\">\n",
       "  <thead>\n",
       "    <tr style=\"text-align: right;\">\n",
       "      <th></th>\n",
       "      <th>Mileage (KM)</th>\n",
       "      <th>Price</th>\n",
       "      <th>Total Seating</th>\n",
       "      <th>Fuel Tank Capacity</th>\n",
       "      <th>Base Engine Size</th>\n",
       "      <th>Horsepower</th>\n",
       "      <th>Torque</th>\n",
       "      <th>Turning Circle</th>\n",
       "      <th>Front Head Room</th>\n",
       "      <th>Front Hip Room</th>\n",
       "      <th>...</th>\n",
       "      <th>Rear Leg Room</th>\n",
       "      <th>Rear Shoulder Room</th>\n",
       "      <th>Cargo Capacity, All Seats In Place</th>\n",
       "      <th>Curb Weight</th>\n",
       "      <th>EPA Interior Volume</th>\n",
       "      <th>Length</th>\n",
       "      <th>Overall Width Without Mirrors</th>\n",
       "      <th>Wheel Base</th>\n",
       "      <th>MPG</th>\n",
       "      <th>CO2 emission(g/km)</th>\n",
       "    </tr>\n",
       "  </thead>\n",
       "  <tbody>\n",
       "    <tr>\n",
       "      <th>Mileage (KM)</th>\n",
       "      <td>1.000000</td>\n",
       "      <td>-0.322803</td>\n",
       "      <td>-0.040279</td>\n",
       "      <td>-0.005485</td>\n",
       "      <td>0.017855</td>\n",
       "      <td>0.007722</td>\n",
       "      <td>0.004060</td>\n",
       "      <td>0.011745</td>\n",
       "      <td>-0.000785</td>\n",
       "      <td>0.004821</td>\n",
       "      <td>...</td>\n",
       "      <td>0.004200</td>\n",
       "      <td>-0.013035</td>\n",
       "      <td>0.031529</td>\n",
       "      <td>0.002405</td>\n",
       "      <td>0.021891</td>\n",
       "      <td>0.030364</td>\n",
       "      <td>0.015901</td>\n",
       "      <td>0.010474</td>\n",
       "      <td>-0.033883</td>\n",
       "      <td>0.973185</td>\n",
       "    </tr>\n",
       "    <tr>\n",
       "      <th>Price</th>\n",
       "      <td>-0.322803</td>\n",
       "      <td>1.000000</td>\n",
       "      <td>-0.043367</td>\n",
       "      <td>-0.000849</td>\n",
       "      <td>0.042434</td>\n",
       "      <td>0.080189</td>\n",
       "      <td>0.063114</td>\n",
       "      <td>0.032026</td>\n",
       "      <td>-0.048741</td>\n",
       "      <td>0.029927</td>\n",
       "      <td>...</td>\n",
       "      <td>0.038867</td>\n",
       "      <td>0.068327</td>\n",
       "      <td>0.129350</td>\n",
       "      <td>0.072849</td>\n",
       "      <td>0.095636</td>\n",
       "      <td>-0.053896</td>\n",
       "      <td>0.080039</td>\n",
       "      <td>-0.024664</td>\n",
       "      <td>-0.052465</td>\n",
       "      <td>-0.302294</td>\n",
       "    </tr>\n",
       "    <tr>\n",
       "      <th>Total Seating</th>\n",
       "      <td>-0.040279</td>\n",
       "      <td>-0.043367</td>\n",
       "      <td>1.000000</td>\n",
       "      <td>0.428489</td>\n",
       "      <td>0.076959</td>\n",
       "      <td>-0.026362</td>\n",
       "      <td>0.016059</td>\n",
       "      <td>0.488929</td>\n",
       "      <td>0.277946</td>\n",
       "      <td>0.533598</td>\n",
       "      <td>...</td>\n",
       "      <td>0.549109</td>\n",
       "      <td>0.282585</td>\n",
       "      <td>-0.362667</td>\n",
       "      <td>0.285933</td>\n",
       "      <td>-0.095901</td>\n",
       "      <td>0.519950</td>\n",
       "      <td>0.331558</td>\n",
       "      <td>0.524655</td>\n",
       "      <td>0.207652</td>\n",
       "      <td>0.008185</td>\n",
       "    </tr>\n",
       "    <tr>\n",
       "      <th>Fuel Tank Capacity</th>\n",
       "      <td>-0.005485</td>\n",
       "      <td>-0.000849</td>\n",
       "      <td>0.428489</td>\n",
       "      <td>1.000000</td>\n",
       "      <td>0.778824</td>\n",
       "      <td>0.705398</td>\n",
       "      <td>0.718471</td>\n",
       "      <td>0.734831</td>\n",
       "      <td>0.426850</td>\n",
       "      <td>0.900200</td>\n",
       "      <td>...</td>\n",
       "      <td>0.582038</td>\n",
       "      <td>0.603848</td>\n",
       "      <td>0.133233</td>\n",
       "      <td>0.851085</td>\n",
       "      <td>0.350522</td>\n",
       "      <td>0.733043</td>\n",
       "      <td>0.767783</td>\n",
       "      <td>0.856076</td>\n",
       "      <td>-0.166984</td>\n",
       "      <td>0.127855</td>\n",
       "    </tr>\n",
       "    <tr>\n",
       "      <th>Base Engine Size</th>\n",
       "      <td>0.017855</td>\n",
       "      <td>0.042434</td>\n",
       "      <td>0.076959</td>\n",
       "      <td>0.778824</td>\n",
       "      <td>1.000000</td>\n",
       "      <td>0.945292</td>\n",
       "      <td>0.951715</td>\n",
       "      <td>0.669483</td>\n",
       "      <td>0.606807</td>\n",
       "      <td>0.685788</td>\n",
       "      <td>...</td>\n",
       "      <td>0.659648</td>\n",
       "      <td>0.848696</td>\n",
       "      <td>0.612868</td>\n",
       "      <td>0.912814</td>\n",
       "      <td>0.763285</td>\n",
       "      <td>0.508831</td>\n",
       "      <td>0.897569</td>\n",
       "      <td>0.541059</td>\n",
       "      <td>-0.351569</td>\n",
       "      <td>0.179283</td>\n",
       "    </tr>\n",
       "    <tr>\n",
       "      <th>Horsepower</th>\n",
       "      <td>0.007722</td>\n",
       "      <td>0.080189</td>\n",
       "      <td>-0.026362</td>\n",
       "      <td>0.705398</td>\n",
       "      <td>0.945292</td>\n",
       "      <td>1.000000</td>\n",
       "      <td>0.984951</td>\n",
       "      <td>0.691748</td>\n",
       "      <td>0.439461</td>\n",
       "      <td>0.623898</td>\n",
       "      <td>...</td>\n",
       "      <td>0.547931</td>\n",
       "      <td>0.803732</td>\n",
       "      <td>0.629456</td>\n",
       "      <td>0.871871</td>\n",
       "      <td>0.723896</td>\n",
       "      <td>0.356389</td>\n",
       "      <td>0.854751</td>\n",
       "      <td>0.446217</td>\n",
       "      <td>-0.342477</td>\n",
       "      <td>0.154716</td>\n",
       "    </tr>\n",
       "    <tr>\n",
       "      <th>Torque</th>\n",
       "      <td>0.004060</td>\n",
       "      <td>0.063114</td>\n",
       "      <td>0.016059</td>\n",
       "      <td>0.718471</td>\n",
       "      <td>0.951715</td>\n",
       "      <td>0.984951</td>\n",
       "      <td>1.000000</td>\n",
       "      <td>0.680434</td>\n",
       "      <td>0.560479</td>\n",
       "      <td>0.634398</td>\n",
       "      <td>...</td>\n",
       "      <td>0.612574</td>\n",
       "      <td>0.834293</td>\n",
       "      <td>0.620053</td>\n",
       "      <td>0.882508</td>\n",
       "      <td>0.750785</td>\n",
       "      <td>0.372213</td>\n",
       "      <td>0.870833</td>\n",
       "      <td>0.463079</td>\n",
       "      <td>-0.358258</td>\n",
       "      <td>0.157254</td>\n",
       "    </tr>\n",
       "    <tr>\n",
       "      <th>Turning Circle</th>\n",
       "      <td>0.011745</td>\n",
       "      <td>0.032026</td>\n",
       "      <td>0.488929</td>\n",
       "      <td>0.734831</td>\n",
       "      <td>0.669483</td>\n",
       "      <td>0.691748</td>\n",
       "      <td>0.680434</td>\n",
       "      <td>1.000000</td>\n",
       "      <td>0.218855</td>\n",
       "      <td>0.801224</td>\n",
       "      <td>...</td>\n",
       "      <td>0.590393</td>\n",
       "      <td>0.561678</td>\n",
       "      <td>0.106296</td>\n",
       "      <td>0.680369</td>\n",
       "      <td>0.293298</td>\n",
       "      <td>0.713070</td>\n",
       "      <td>0.772054</td>\n",
       "      <td>0.749543</td>\n",
       "      <td>-0.078936</td>\n",
       "      <td>0.110712</td>\n",
       "    </tr>\n",
       "    <tr>\n",
       "      <th>Front Head Room</th>\n",
       "      <td>-0.000785</td>\n",
       "      <td>-0.048741</td>\n",
       "      <td>0.277946</td>\n",
       "      <td>0.426850</td>\n",
       "      <td>0.606807</td>\n",
       "      <td>0.439461</td>\n",
       "      <td>0.560479</td>\n",
       "      <td>0.218855</td>\n",
       "      <td>1.000000</td>\n",
       "      <td>0.356574</td>\n",
       "      <td>...</td>\n",
       "      <td>0.765791</td>\n",
       "      <td>0.726304</td>\n",
       "      <td>0.465091</td>\n",
       "      <td>0.606993</td>\n",
       "      <td>0.694175</td>\n",
       "      <td>0.242643</td>\n",
       "      <td>0.613793</td>\n",
       "      <td>0.226175</td>\n",
       "      <td>-0.270034</td>\n",
       "      <td>0.133827</td>\n",
       "    </tr>\n",
       "    <tr>\n",
       "      <th>Front Hip Room</th>\n",
       "      <td>0.004821</td>\n",
       "      <td>0.029927</td>\n",
       "      <td>0.533598</td>\n",
       "      <td>0.900200</td>\n",
       "      <td>0.685788</td>\n",
       "      <td>0.623898</td>\n",
       "      <td>0.634398</td>\n",
       "      <td>0.801224</td>\n",
       "      <td>0.356574</td>\n",
       "      <td>1.000000</td>\n",
       "      <td>...</td>\n",
       "      <td>0.698040</td>\n",
       "      <td>0.621982</td>\n",
       "      <td>0.163462</td>\n",
       "      <td>0.824686</td>\n",
       "      <td>0.383617</td>\n",
       "      <td>0.712562</td>\n",
       "      <td>0.820336</td>\n",
       "      <td>0.859571</td>\n",
       "      <td>-0.125303</td>\n",
       "      <td>0.144879</td>\n",
       "    </tr>\n",
       "    <tr>\n",
       "      <th>Front Leg Room</th>\n",
       "      <td>-0.012697</td>\n",
       "      <td>-0.119572</td>\n",
       "      <td>0.019407</td>\n",
       "      <td>-0.176906</td>\n",
       "      <td>-0.358191</td>\n",
       "      <td>-0.317797</td>\n",
       "      <td>-0.318992</td>\n",
       "      <td>-0.115179</td>\n",
       "      <td>-0.350692</td>\n",
       "      <td>-0.351065</td>\n",
       "      <td>...</td>\n",
       "      <td>-0.615594</td>\n",
       "      <td>-0.612023</td>\n",
       "      <td>-0.758527</td>\n",
       "      <td>-0.539722</td>\n",
       "      <td>-0.743098</td>\n",
       "      <td>0.184319</td>\n",
       "      <td>-0.563575</td>\n",
       "      <td>0.018480</td>\n",
       "      <td>0.204517</td>\n",
       "      <td>-0.163510</td>\n",
       "    </tr>\n",
       "    <tr>\n",
       "      <th>Front Shoulder Room</th>\n",
       "      <td>-0.001574</td>\n",
       "      <td>0.087165</td>\n",
       "      <td>0.272568</td>\n",
       "      <td>0.590299</td>\n",
       "      <td>0.845914</td>\n",
       "      <td>0.811721</td>\n",
       "      <td>0.834848</td>\n",
       "      <td>0.607413</td>\n",
       "      <td>0.682725</td>\n",
       "      <td>0.647059</td>\n",
       "      <td>...</td>\n",
       "      <td>0.886112</td>\n",
       "      <td>0.989403</td>\n",
       "      <td>0.742893</td>\n",
       "      <td>0.903028</td>\n",
       "      <td>0.897124</td>\n",
       "      <td>0.259922</td>\n",
       "      <td>0.941879</td>\n",
       "      <td>0.338426</td>\n",
       "      <td>-0.288901</td>\n",
       "      <td>0.185567</td>\n",
       "    </tr>\n",
       "    <tr>\n",
       "      <th>Rear Head Room</th>\n",
       "      <td>0.013590</td>\n",
       "      <td>0.104976</td>\n",
       "      <td>0.055606</td>\n",
       "      <td>0.304264</td>\n",
       "      <td>0.658781</td>\n",
       "      <td>0.598316</td>\n",
       "      <td>0.620959</td>\n",
       "      <td>0.273699</td>\n",
       "      <td>0.667053</td>\n",
       "      <td>0.374430</td>\n",
       "      <td>...</td>\n",
       "      <td>0.783240</td>\n",
       "      <td>0.879439</td>\n",
       "      <td>0.898668</td>\n",
       "      <td>0.731174</td>\n",
       "      <td>0.960807</td>\n",
       "      <td>-0.036805</td>\n",
       "      <td>0.773148</td>\n",
       "      <td>0.003394</td>\n",
       "      <td>-0.303207</td>\n",
       "      <td>0.187522</td>\n",
       "    </tr>\n",
       "    <tr>\n",
       "      <th>Rear Hip Room</th>\n",
       "      <td>-0.028230</td>\n",
       "      <td>-0.173964</td>\n",
       "      <td>0.479292</td>\n",
       "      <td>0.369996</td>\n",
       "      <td>-0.087552</td>\n",
       "      <td>-0.249289</td>\n",
       "      <td>-0.166713</td>\n",
       "      <td>0.096443</td>\n",
       "      <td>0.155220</td>\n",
       "      <td>0.257382</td>\n",
       "      <td>...</td>\n",
       "      <td>-0.036527</td>\n",
       "      <td>-0.244365</td>\n",
       "      <td>-0.727789</td>\n",
       "      <td>-0.088933</td>\n",
       "      <td>-0.502787</td>\n",
       "      <td>0.573092</td>\n",
       "      <td>-0.157099</td>\n",
       "      <td>0.548970</td>\n",
       "      <td>0.149300</td>\n",
       "      <td>-0.065804</td>\n",
       "    </tr>\n",
       "    <tr>\n",
       "      <th>Rear Leg Room</th>\n",
       "      <td>0.004200</td>\n",
       "      <td>0.038867</td>\n",
       "      <td>0.549109</td>\n",
       "      <td>0.582038</td>\n",
       "      <td>0.659648</td>\n",
       "      <td>0.547931</td>\n",
       "      <td>0.612574</td>\n",
       "      <td>0.590393</td>\n",
       "      <td>0.765791</td>\n",
       "      <td>0.698040</td>\n",
       "      <td>...</td>\n",
       "      <td>1.000000</td>\n",
       "      <td>0.865968</td>\n",
       "      <td>0.501948</td>\n",
       "      <td>0.804087</td>\n",
       "      <td>0.727229</td>\n",
       "      <td>0.398145</td>\n",
       "      <td>0.870506</td>\n",
       "      <td>0.475371</td>\n",
       "      <td>-0.185793</td>\n",
       "      <td>0.176177</td>\n",
       "    </tr>\n",
       "    <tr>\n",
       "      <th>Rear Shoulder Room</th>\n",
       "      <td>-0.013035</td>\n",
       "      <td>0.068327</td>\n",
       "      <td>0.282585</td>\n",
       "      <td>0.603848</td>\n",
       "      <td>0.848696</td>\n",
       "      <td>0.803732</td>\n",
       "      <td>0.834293</td>\n",
       "      <td>0.561678</td>\n",
       "      <td>0.726304</td>\n",
       "      <td>0.621982</td>\n",
       "      <td>...</td>\n",
       "      <td>0.865968</td>\n",
       "      <td>1.000000</td>\n",
       "      <td>0.717721</td>\n",
       "      <td>0.897631</td>\n",
       "      <td>0.886203</td>\n",
       "      <td>0.235239</td>\n",
       "      <td>0.912297</td>\n",
       "      <td>0.313488</td>\n",
       "      <td>-0.287374</td>\n",
       "      <td>0.174595</td>\n",
       "    </tr>\n",
       "    <tr>\n",
       "      <th>Cargo Capacity, All Seats In Place</th>\n",
       "      <td>0.031529</td>\n",
       "      <td>0.129350</td>\n",
       "      <td>-0.362667</td>\n",
       "      <td>0.133233</td>\n",
       "      <td>0.612868</td>\n",
       "      <td>0.629456</td>\n",
       "      <td>0.620053</td>\n",
       "      <td>0.106296</td>\n",
       "      <td>0.465091</td>\n",
       "      <td>0.163462</td>\n",
       "      <td>...</td>\n",
       "      <td>0.501948</td>\n",
       "      <td>0.717721</td>\n",
       "      <td>1.000000</td>\n",
       "      <td>0.598503</td>\n",
       "      <td>0.940006</td>\n",
       "      <td>-0.240405</td>\n",
       "      <td>0.617062</td>\n",
       "      <td>-0.186571</td>\n",
       "      <td>-0.372636</td>\n",
       "      <td>0.173776</td>\n",
       "    </tr>\n",
       "    <tr>\n",
       "      <th>Curb Weight</th>\n",
       "      <td>0.002405</td>\n",
       "      <td>0.072849</td>\n",
       "      <td>0.285933</td>\n",
       "      <td>0.851085</td>\n",
       "      <td>0.912814</td>\n",
       "      <td>0.871871</td>\n",
       "      <td>0.882508</td>\n",
       "      <td>0.680369</td>\n",
       "      <td>0.606993</td>\n",
       "      <td>0.824686</td>\n",
       "      <td>...</td>\n",
       "      <td>0.804087</td>\n",
       "      <td>0.897631</td>\n",
       "      <td>0.598503</td>\n",
       "      <td>1.000000</td>\n",
       "      <td>0.764783</td>\n",
       "      <td>0.456292</td>\n",
       "      <td>0.960233</td>\n",
       "      <td>0.593198</td>\n",
       "      <td>-0.291116</td>\n",
       "      <td>0.186446</td>\n",
       "    </tr>\n",
       "    <tr>\n",
       "      <th>EPA Interior Volume</th>\n",
       "      <td>0.021891</td>\n",
       "      <td>0.095636</td>\n",
       "      <td>-0.095901</td>\n",
       "      <td>0.350522</td>\n",
       "      <td>0.763285</td>\n",
       "      <td>0.723896</td>\n",
       "      <td>0.750785</td>\n",
       "      <td>0.293298</td>\n",
       "      <td>0.694175</td>\n",
       "      <td>0.383617</td>\n",
       "      <td>...</td>\n",
       "      <td>0.727229</td>\n",
       "      <td>0.886203</td>\n",
       "      <td>0.940006</td>\n",
       "      <td>0.764783</td>\n",
       "      <td>1.000000</td>\n",
       "      <td>-0.009305</td>\n",
       "      <td>0.793230</td>\n",
       "      <td>0.038614</td>\n",
       "      <td>-0.380547</td>\n",
       "      <td>0.194021</td>\n",
       "    </tr>\n",
       "    <tr>\n",
       "      <th>Length</th>\n",
       "      <td>0.030364</td>\n",
       "      <td>-0.053896</td>\n",
       "      <td>0.519950</td>\n",
       "      <td>0.733043</td>\n",
       "      <td>0.508831</td>\n",
       "      <td>0.356389</td>\n",
       "      <td>0.372213</td>\n",
       "      <td>0.713070</td>\n",
       "      <td>0.242643</td>\n",
       "      <td>0.712562</td>\n",
       "      <td>...</td>\n",
       "      <td>0.398145</td>\n",
       "      <td>0.235239</td>\n",
       "      <td>-0.240405</td>\n",
       "      <td>0.456292</td>\n",
       "      <td>-0.009305</td>\n",
       "      <td>1.000000</td>\n",
       "      <td>0.495641</td>\n",
       "      <td>0.912663</td>\n",
       "      <td>-0.024250</td>\n",
       "      <td>0.078810</td>\n",
       "    </tr>\n",
       "    <tr>\n",
       "      <th>Overall Width Without Mirrors</th>\n",
       "      <td>0.015901</td>\n",
       "      <td>0.080039</td>\n",
       "      <td>0.331558</td>\n",
       "      <td>0.767783</td>\n",
       "      <td>0.897569</td>\n",
       "      <td>0.854751</td>\n",
       "      <td>0.870833</td>\n",
       "      <td>0.772054</td>\n",
       "      <td>0.613793</td>\n",
       "      <td>0.820336</td>\n",
       "      <td>...</td>\n",
       "      <td>0.870506</td>\n",
       "      <td>0.912297</td>\n",
       "      <td>0.617062</td>\n",
       "      <td>0.960233</td>\n",
       "      <td>0.793230</td>\n",
       "      <td>0.495641</td>\n",
       "      <td>1.000000</td>\n",
       "      <td>0.581265</td>\n",
       "      <td>-0.278564</td>\n",
       "      <td>0.195947</td>\n",
       "    </tr>\n",
       "    <tr>\n",
       "      <th>Wheel Base</th>\n",
       "      <td>0.010474</td>\n",
       "      <td>-0.024664</td>\n",
       "      <td>0.524655</td>\n",
       "      <td>0.856076</td>\n",
       "      <td>0.541059</td>\n",
       "      <td>0.446217</td>\n",
       "      <td>0.463079</td>\n",
       "      <td>0.749543</td>\n",
       "      <td>0.226175</td>\n",
       "      <td>0.859571</td>\n",
       "      <td>...</td>\n",
       "      <td>0.475371</td>\n",
       "      <td>0.313488</td>\n",
       "      <td>-0.186571</td>\n",
       "      <td>0.593198</td>\n",
       "      <td>0.038614</td>\n",
       "      <td>0.912663</td>\n",
       "      <td>0.581265</td>\n",
       "      <td>1.000000</td>\n",
       "      <td>-0.047140</td>\n",
       "      <td>0.089200</td>\n",
       "    </tr>\n",
       "    <tr>\n",
       "      <th>MPG</th>\n",
       "      <td>-0.033883</td>\n",
       "      <td>-0.052465</td>\n",
       "      <td>0.207652</td>\n",
       "      <td>-0.166984</td>\n",
       "      <td>-0.351569</td>\n",
       "      <td>-0.342477</td>\n",
       "      <td>-0.358258</td>\n",
       "      <td>-0.078936</td>\n",
       "      <td>-0.270034</td>\n",
       "      <td>-0.125303</td>\n",
       "      <td>...</td>\n",
       "      <td>-0.185793</td>\n",
       "      <td>-0.287374</td>\n",
       "      <td>-0.372636</td>\n",
       "      <td>-0.291116</td>\n",
       "      <td>-0.380547</td>\n",
       "      <td>-0.024250</td>\n",
       "      <td>-0.278564</td>\n",
       "      <td>-0.047140</td>\n",
       "      <td>1.000000</td>\n",
       "      <td>-0.092380</td>\n",
       "    </tr>\n",
       "    <tr>\n",
       "      <th>CO2 emission(g/km)</th>\n",
       "      <td>0.973185</td>\n",
       "      <td>-0.302294</td>\n",
       "      <td>0.008185</td>\n",
       "      <td>0.127855</td>\n",
       "      <td>0.179283</td>\n",
       "      <td>0.154716</td>\n",
       "      <td>0.157254</td>\n",
       "      <td>0.110712</td>\n",
       "      <td>0.133827</td>\n",
       "      <td>0.144879</td>\n",
       "      <td>...</td>\n",
       "      <td>0.176177</td>\n",
       "      <td>0.174595</td>\n",
       "      <td>0.173776</td>\n",
       "      <td>0.186446</td>\n",
       "      <td>0.194021</td>\n",
       "      <td>0.078810</td>\n",
       "      <td>0.195947</td>\n",
       "      <td>0.089200</td>\n",
       "      <td>-0.092380</td>\n",
       "      <td>1.000000</td>\n",
       "    </tr>\n",
       "  </tbody>\n",
       "</table>\n",
       "<p>24 rows × 24 columns</p>\n",
       "</div>"
      ],
      "text/plain": [
       "                                    Mileage (KM)     Price  Total Seating  \\\n",
       "Mileage (KM)                            1.000000 -0.322803      -0.040279   \n",
       "Price                                  -0.322803  1.000000      -0.043367   \n",
       "Total Seating                          -0.040279 -0.043367       1.000000   \n",
       "Fuel Tank Capacity                     -0.005485 -0.000849       0.428489   \n",
       "Base Engine Size                        0.017855  0.042434       0.076959   \n",
       "Horsepower                              0.007722  0.080189      -0.026362   \n",
       "Torque                                  0.004060  0.063114       0.016059   \n",
       "Turning Circle                          0.011745  0.032026       0.488929   \n",
       "Front Head Room                        -0.000785 -0.048741       0.277946   \n",
       "Front Hip Room                          0.004821  0.029927       0.533598   \n",
       "Front Leg Room                         -0.012697 -0.119572       0.019407   \n",
       "Front Shoulder Room                    -0.001574  0.087165       0.272568   \n",
       "Rear Head Room                          0.013590  0.104976       0.055606   \n",
       "Rear Hip Room                          -0.028230 -0.173964       0.479292   \n",
       "Rear Leg Room                           0.004200  0.038867       0.549109   \n",
       "Rear Shoulder Room                     -0.013035  0.068327       0.282585   \n",
       "Cargo Capacity, All Seats In Place      0.031529  0.129350      -0.362667   \n",
       "Curb Weight                             0.002405  0.072849       0.285933   \n",
       "EPA Interior Volume                     0.021891  0.095636      -0.095901   \n",
       "Length                                  0.030364 -0.053896       0.519950   \n",
       "Overall Width Without Mirrors           0.015901  0.080039       0.331558   \n",
       "Wheel Base                              0.010474 -0.024664       0.524655   \n",
       "MPG                                    -0.033883 -0.052465       0.207652   \n",
       "CO2 emission(g/km)                      0.973185 -0.302294       0.008185   \n",
       "\n",
       "                                    Fuel Tank Capacity  Base Engine Size  \\\n",
       "Mileage (KM)                                 -0.005485          0.017855   \n",
       "Price                                        -0.000849          0.042434   \n",
       "Total Seating                                 0.428489          0.076959   \n",
       "Fuel Tank Capacity                            1.000000          0.778824   \n",
       "Base Engine Size                              0.778824          1.000000   \n",
       "Horsepower                                    0.705398          0.945292   \n",
       "Torque                                        0.718471          0.951715   \n",
       "Turning Circle                                0.734831          0.669483   \n",
       "Front Head Room                               0.426850          0.606807   \n",
       "Front Hip Room                                0.900200          0.685788   \n",
       "Front Leg Room                               -0.176906         -0.358191   \n",
       "Front Shoulder Room                           0.590299          0.845914   \n",
       "Rear Head Room                                0.304264          0.658781   \n",
       "Rear Hip Room                                 0.369996         -0.087552   \n",
       "Rear Leg Room                                 0.582038          0.659648   \n",
       "Rear Shoulder Room                            0.603848          0.848696   \n",
       "Cargo Capacity, All Seats In Place            0.133233          0.612868   \n",
       "Curb Weight                                   0.851085          0.912814   \n",
       "EPA Interior Volume                           0.350522          0.763285   \n",
       "Length                                        0.733043          0.508831   \n",
       "Overall Width Without Mirrors                 0.767783          0.897569   \n",
       "Wheel Base                                    0.856076          0.541059   \n",
       "MPG                                          -0.166984         -0.351569   \n",
       "CO2 emission(g/km)                            0.127855          0.179283   \n",
       "\n",
       "                                    Horsepower    Torque  Turning Circle  \\\n",
       "Mileage (KM)                          0.007722  0.004060        0.011745   \n",
       "Price                                 0.080189  0.063114        0.032026   \n",
       "Total Seating                        -0.026362  0.016059        0.488929   \n",
       "Fuel Tank Capacity                    0.705398  0.718471        0.734831   \n",
       "Base Engine Size                      0.945292  0.951715        0.669483   \n",
       "Horsepower                            1.000000  0.984951        0.691748   \n",
       "Torque                                0.984951  1.000000        0.680434   \n",
       "Turning Circle                        0.691748  0.680434        1.000000   \n",
       "Front Head Room                       0.439461  0.560479        0.218855   \n",
       "Front Hip Room                        0.623898  0.634398        0.801224   \n",
       "Front Leg Room                       -0.317797 -0.318992       -0.115179   \n",
       "Front Shoulder Room                   0.811721  0.834848        0.607413   \n",
       "Rear Head Room                        0.598316  0.620959        0.273699   \n",
       "Rear Hip Room                        -0.249289 -0.166713        0.096443   \n",
       "Rear Leg Room                         0.547931  0.612574        0.590393   \n",
       "Rear Shoulder Room                    0.803732  0.834293        0.561678   \n",
       "Cargo Capacity, All Seats In Place    0.629456  0.620053        0.106296   \n",
       "Curb Weight                           0.871871  0.882508        0.680369   \n",
       "EPA Interior Volume                   0.723896  0.750785        0.293298   \n",
       "Length                                0.356389  0.372213        0.713070   \n",
       "Overall Width Without Mirrors         0.854751  0.870833        0.772054   \n",
       "Wheel Base                            0.446217  0.463079        0.749543   \n",
       "MPG                                  -0.342477 -0.358258       -0.078936   \n",
       "CO2 emission(g/km)                    0.154716  0.157254        0.110712   \n",
       "\n",
       "                                    Front Head Room  Front Hip Room  ...  \\\n",
       "Mileage (KM)                              -0.000785        0.004821  ...   \n",
       "Price                                     -0.048741        0.029927  ...   \n",
       "Total Seating                              0.277946        0.533598  ...   \n",
       "Fuel Tank Capacity                         0.426850        0.900200  ...   \n",
       "Base Engine Size                           0.606807        0.685788  ...   \n",
       "Horsepower                                 0.439461        0.623898  ...   \n",
       "Torque                                     0.560479        0.634398  ...   \n",
       "Turning Circle                             0.218855        0.801224  ...   \n",
       "Front Head Room                            1.000000        0.356574  ...   \n",
       "Front Hip Room                             0.356574        1.000000  ...   \n",
       "Front Leg Room                            -0.350692       -0.351065  ...   \n",
       "Front Shoulder Room                        0.682725        0.647059  ...   \n",
       "Rear Head Room                             0.667053        0.374430  ...   \n",
       "Rear Hip Room                              0.155220        0.257382  ...   \n",
       "Rear Leg Room                              0.765791        0.698040  ...   \n",
       "Rear Shoulder Room                         0.726304        0.621982  ...   \n",
       "Cargo Capacity, All Seats In Place         0.465091        0.163462  ...   \n",
       "Curb Weight                                0.606993        0.824686  ...   \n",
       "EPA Interior Volume                        0.694175        0.383617  ...   \n",
       "Length                                     0.242643        0.712562  ...   \n",
       "Overall Width Without Mirrors              0.613793        0.820336  ...   \n",
       "Wheel Base                                 0.226175        0.859571  ...   \n",
       "MPG                                       -0.270034       -0.125303  ...   \n",
       "CO2 emission(g/km)                         0.133827        0.144879  ...   \n",
       "\n",
       "                                    Rear Leg Room  Rear Shoulder Room  \\\n",
       "Mileage (KM)                             0.004200           -0.013035   \n",
       "Price                                    0.038867            0.068327   \n",
       "Total Seating                            0.549109            0.282585   \n",
       "Fuel Tank Capacity                       0.582038            0.603848   \n",
       "Base Engine Size                         0.659648            0.848696   \n",
       "Horsepower                               0.547931            0.803732   \n",
       "Torque                                   0.612574            0.834293   \n",
       "Turning Circle                           0.590393            0.561678   \n",
       "Front Head Room                          0.765791            0.726304   \n",
       "Front Hip Room                           0.698040            0.621982   \n",
       "Front Leg Room                          -0.615594           -0.612023   \n",
       "Front Shoulder Room                      0.886112            0.989403   \n",
       "Rear Head Room                           0.783240            0.879439   \n",
       "Rear Hip Room                           -0.036527           -0.244365   \n",
       "Rear Leg Room                            1.000000            0.865968   \n",
       "Rear Shoulder Room                       0.865968            1.000000   \n",
       "Cargo Capacity, All Seats In Place       0.501948            0.717721   \n",
       "Curb Weight                              0.804087            0.897631   \n",
       "EPA Interior Volume                      0.727229            0.886203   \n",
       "Length                                   0.398145            0.235239   \n",
       "Overall Width Without Mirrors            0.870506            0.912297   \n",
       "Wheel Base                               0.475371            0.313488   \n",
       "MPG                                     -0.185793           -0.287374   \n",
       "CO2 emission(g/km)                       0.176177            0.174595   \n",
       "\n",
       "                                    Cargo Capacity, All Seats In Place  \\\n",
       "Mileage (KM)                                                  0.031529   \n",
       "Price                                                         0.129350   \n",
       "Total Seating                                                -0.362667   \n",
       "Fuel Tank Capacity                                            0.133233   \n",
       "Base Engine Size                                              0.612868   \n",
       "Horsepower                                                    0.629456   \n",
       "Torque                                                        0.620053   \n",
       "Turning Circle                                                0.106296   \n",
       "Front Head Room                                               0.465091   \n",
       "Front Hip Room                                                0.163462   \n",
       "Front Leg Room                                               -0.758527   \n",
       "Front Shoulder Room                                           0.742893   \n",
       "Rear Head Room                                                0.898668   \n",
       "Rear Hip Room                                                -0.727789   \n",
       "Rear Leg Room                                                 0.501948   \n",
       "Rear Shoulder Room                                            0.717721   \n",
       "Cargo Capacity, All Seats In Place                            1.000000   \n",
       "Curb Weight                                                   0.598503   \n",
       "EPA Interior Volume                                           0.940006   \n",
       "Length                                                       -0.240405   \n",
       "Overall Width Without Mirrors                                 0.617062   \n",
       "Wheel Base                                                   -0.186571   \n",
       "MPG                                                          -0.372636   \n",
       "CO2 emission(g/km)                                            0.173776   \n",
       "\n",
       "                                    Curb Weight  EPA Interior Volume  \\\n",
       "Mileage (KM)                           0.002405             0.021891   \n",
       "Price                                  0.072849             0.095636   \n",
       "Total Seating                          0.285933            -0.095901   \n",
       "Fuel Tank Capacity                     0.851085             0.350522   \n",
       "Base Engine Size                       0.912814             0.763285   \n",
       "Horsepower                             0.871871             0.723896   \n",
       "Torque                                 0.882508             0.750785   \n",
       "Turning Circle                         0.680369             0.293298   \n",
       "Front Head Room                        0.606993             0.694175   \n",
       "Front Hip Room                         0.824686             0.383617   \n",
       "Front Leg Room                        -0.539722            -0.743098   \n",
       "Front Shoulder Room                    0.903028             0.897124   \n",
       "Rear Head Room                         0.731174             0.960807   \n",
       "Rear Hip Room                         -0.088933            -0.502787   \n",
       "Rear Leg Room                          0.804087             0.727229   \n",
       "Rear Shoulder Room                     0.897631             0.886203   \n",
       "Cargo Capacity, All Seats In Place     0.598503             0.940006   \n",
       "Curb Weight                            1.000000             0.764783   \n",
       "EPA Interior Volume                    0.764783             1.000000   \n",
       "Length                                 0.456292            -0.009305   \n",
       "Overall Width Without Mirrors          0.960233             0.793230   \n",
       "Wheel Base                             0.593198             0.038614   \n",
       "MPG                                   -0.291116            -0.380547   \n",
       "CO2 emission(g/km)                     0.186446             0.194021   \n",
       "\n",
       "                                      Length  Overall Width Without Mirrors  \\\n",
       "Mileage (KM)                        0.030364                       0.015901   \n",
       "Price                              -0.053896                       0.080039   \n",
       "Total Seating                       0.519950                       0.331558   \n",
       "Fuel Tank Capacity                  0.733043                       0.767783   \n",
       "Base Engine Size                    0.508831                       0.897569   \n",
       "Horsepower                          0.356389                       0.854751   \n",
       "Torque                              0.372213                       0.870833   \n",
       "Turning Circle                      0.713070                       0.772054   \n",
       "Front Head Room                     0.242643                       0.613793   \n",
       "Front Hip Room                      0.712562                       0.820336   \n",
       "Front Leg Room                      0.184319                      -0.563575   \n",
       "Front Shoulder Room                 0.259922                       0.941879   \n",
       "Rear Head Room                     -0.036805                       0.773148   \n",
       "Rear Hip Room                       0.573092                      -0.157099   \n",
       "Rear Leg Room                       0.398145                       0.870506   \n",
       "Rear Shoulder Room                  0.235239                       0.912297   \n",
       "Cargo Capacity, All Seats In Place -0.240405                       0.617062   \n",
       "Curb Weight                         0.456292                       0.960233   \n",
       "EPA Interior Volume                -0.009305                       0.793230   \n",
       "Length                              1.000000                       0.495641   \n",
       "Overall Width Without Mirrors       0.495641                       1.000000   \n",
       "Wheel Base                          0.912663                       0.581265   \n",
       "MPG                                -0.024250                      -0.278564   \n",
       "CO2 emission(g/km)                  0.078810                       0.195947   \n",
       "\n",
       "                                    Wheel Base       MPG  CO2 emission(g/km)  \n",
       "Mileage (KM)                          0.010474 -0.033883            0.973185  \n",
       "Price                                -0.024664 -0.052465           -0.302294  \n",
       "Total Seating                         0.524655  0.207652            0.008185  \n",
       "Fuel Tank Capacity                    0.856076 -0.166984            0.127855  \n",
       "Base Engine Size                      0.541059 -0.351569            0.179283  \n",
       "Horsepower                            0.446217 -0.342477            0.154716  \n",
       "Torque                                0.463079 -0.358258            0.157254  \n",
       "Turning Circle                        0.749543 -0.078936            0.110712  \n",
       "Front Head Room                       0.226175 -0.270034            0.133827  \n",
       "Front Hip Room                        0.859571 -0.125303            0.144879  \n",
       "Front Leg Room                        0.018480  0.204517           -0.163510  \n",
       "Front Shoulder Room                   0.338426 -0.288901            0.185567  \n",
       "Rear Head Room                        0.003394 -0.303207            0.187522  \n",
       "Rear Hip Room                         0.548970  0.149300           -0.065804  \n",
       "Rear Leg Room                         0.475371 -0.185793            0.176177  \n",
       "Rear Shoulder Room                    0.313488 -0.287374            0.174595  \n",
       "Cargo Capacity, All Seats In Place   -0.186571 -0.372636            0.173776  \n",
       "Curb Weight                           0.593198 -0.291116            0.186446  \n",
       "EPA Interior Volume                   0.038614 -0.380547            0.194021  \n",
       "Length                                0.912663 -0.024250            0.078810  \n",
       "Overall Width Without Mirrors         0.581265 -0.278564            0.195947  \n",
       "Wheel Base                            1.000000 -0.047140            0.089200  \n",
       "MPG                                  -0.047140  1.000000           -0.092380  \n",
       "CO2 emission(g/km)                    0.089200 -0.092380            1.000000  \n",
       "\n",
       "[24 rows x 24 columns]"
      ]
     },
     "execution_count": 35,
     "metadata": {},
     "output_type": "execute_result"
    }
   ],
   "source": [
    "df.corr()"
   ]
  },
  {
   "cell_type": "code",
   "execution_count": 36,
   "metadata": {},
   "outputs": [],
   "source": [
    "column = [\"Front Hip Room\", \"Torque\", \"Front Shoulder Room\", \"Rear Shoulder Room\", \"Rear Head Room\", \n",
    "          \"Front Shoulder Room\", \"Rear Leg Room\", \"Turning Circle\",\n",
    "          \"Rear Hip Room\", \"Front Head Room\", \"Front Leg Room\"]\n",
    "df = df.drop(column, axis=1)"
   ]
  },
  {
   "cell_type": "code",
   "execution_count": 37,
   "metadata": {},
   "outputs": [
    {
     "data": {
      "text/html": [
       "<div>\n",
       "<style scoped>\n",
       "    .dataframe tbody tr th:only-of-type {\n",
       "        vertical-align: middle;\n",
       "    }\n",
       "\n",
       "    .dataframe tbody tr th {\n",
       "        vertical-align: top;\n",
       "    }\n",
       "\n",
       "    .dataframe thead th {\n",
       "        text-align: right;\n",
       "    }\n",
       "</style>\n",
       "<table border=\"1\" class=\"dataframe\">\n",
       "  <thead>\n",
       "    <tr style=\"text-align: right;\">\n",
       "      <th></th>\n",
       "      <th>Mileage (KM)</th>\n",
       "      <th>Price</th>\n",
       "      <th>Total Seating</th>\n",
       "      <th>Fuel Tank Capacity</th>\n",
       "      <th>Base Engine Size</th>\n",
       "      <th>Horsepower</th>\n",
       "      <th>Cargo Capacity, All Seats In Place</th>\n",
       "      <th>Curb Weight</th>\n",
       "      <th>EPA Interior Volume</th>\n",
       "      <th>Length</th>\n",
       "      <th>Overall Width Without Mirrors</th>\n",
       "      <th>Wheel Base</th>\n",
       "      <th>MPG</th>\n",
       "      <th>CO2 emission(g/km)</th>\n",
       "    </tr>\n",
       "  </thead>\n",
       "  <tbody>\n",
       "    <tr>\n",
       "      <th>Mileage (KM)</th>\n",
       "      <td>1.000000</td>\n",
       "      <td>-0.322803</td>\n",
       "      <td>-0.040279</td>\n",
       "      <td>-0.005485</td>\n",
       "      <td>0.017855</td>\n",
       "      <td>0.007722</td>\n",
       "      <td>0.031529</td>\n",
       "      <td>0.002405</td>\n",
       "      <td>0.021891</td>\n",
       "      <td>0.030364</td>\n",
       "      <td>0.015901</td>\n",
       "      <td>0.010474</td>\n",
       "      <td>-0.033883</td>\n",
       "      <td>0.973185</td>\n",
       "    </tr>\n",
       "    <tr>\n",
       "      <th>Price</th>\n",
       "      <td>-0.322803</td>\n",
       "      <td>1.000000</td>\n",
       "      <td>-0.043367</td>\n",
       "      <td>-0.000849</td>\n",
       "      <td>0.042434</td>\n",
       "      <td>0.080189</td>\n",
       "      <td>0.129350</td>\n",
       "      <td>0.072849</td>\n",
       "      <td>0.095636</td>\n",
       "      <td>-0.053896</td>\n",
       "      <td>0.080039</td>\n",
       "      <td>-0.024664</td>\n",
       "      <td>-0.052465</td>\n",
       "      <td>-0.302294</td>\n",
       "    </tr>\n",
       "    <tr>\n",
       "      <th>Total Seating</th>\n",
       "      <td>-0.040279</td>\n",
       "      <td>-0.043367</td>\n",
       "      <td>1.000000</td>\n",
       "      <td>0.428489</td>\n",
       "      <td>0.076959</td>\n",
       "      <td>-0.026362</td>\n",
       "      <td>-0.362667</td>\n",
       "      <td>0.285933</td>\n",
       "      <td>-0.095901</td>\n",
       "      <td>0.519950</td>\n",
       "      <td>0.331558</td>\n",
       "      <td>0.524655</td>\n",
       "      <td>0.207652</td>\n",
       "      <td>0.008185</td>\n",
       "    </tr>\n",
       "    <tr>\n",
       "      <th>Fuel Tank Capacity</th>\n",
       "      <td>-0.005485</td>\n",
       "      <td>-0.000849</td>\n",
       "      <td>0.428489</td>\n",
       "      <td>1.000000</td>\n",
       "      <td>0.778824</td>\n",
       "      <td>0.705398</td>\n",
       "      <td>0.133233</td>\n",
       "      <td>0.851085</td>\n",
       "      <td>0.350522</td>\n",
       "      <td>0.733043</td>\n",
       "      <td>0.767783</td>\n",
       "      <td>0.856076</td>\n",
       "      <td>-0.166984</td>\n",
       "      <td>0.127855</td>\n",
       "    </tr>\n",
       "    <tr>\n",
       "      <th>Base Engine Size</th>\n",
       "      <td>0.017855</td>\n",
       "      <td>0.042434</td>\n",
       "      <td>0.076959</td>\n",
       "      <td>0.778824</td>\n",
       "      <td>1.000000</td>\n",
       "      <td>0.945292</td>\n",
       "      <td>0.612868</td>\n",
       "      <td>0.912814</td>\n",
       "      <td>0.763285</td>\n",
       "      <td>0.508831</td>\n",
       "      <td>0.897569</td>\n",
       "      <td>0.541059</td>\n",
       "      <td>-0.351569</td>\n",
       "      <td>0.179283</td>\n",
       "    </tr>\n",
       "    <tr>\n",
       "      <th>Horsepower</th>\n",
       "      <td>0.007722</td>\n",
       "      <td>0.080189</td>\n",
       "      <td>-0.026362</td>\n",
       "      <td>0.705398</td>\n",
       "      <td>0.945292</td>\n",
       "      <td>1.000000</td>\n",
       "      <td>0.629456</td>\n",
       "      <td>0.871871</td>\n",
       "      <td>0.723896</td>\n",
       "      <td>0.356389</td>\n",
       "      <td>0.854751</td>\n",
       "      <td>0.446217</td>\n",
       "      <td>-0.342477</td>\n",
       "      <td>0.154716</td>\n",
       "    </tr>\n",
       "    <tr>\n",
       "      <th>Cargo Capacity, All Seats In Place</th>\n",
       "      <td>0.031529</td>\n",
       "      <td>0.129350</td>\n",
       "      <td>-0.362667</td>\n",
       "      <td>0.133233</td>\n",
       "      <td>0.612868</td>\n",
       "      <td>0.629456</td>\n",
       "      <td>1.000000</td>\n",
       "      <td>0.598503</td>\n",
       "      <td>0.940006</td>\n",
       "      <td>-0.240405</td>\n",
       "      <td>0.617062</td>\n",
       "      <td>-0.186571</td>\n",
       "      <td>-0.372636</td>\n",
       "      <td>0.173776</td>\n",
       "    </tr>\n",
       "    <tr>\n",
       "      <th>Curb Weight</th>\n",
       "      <td>0.002405</td>\n",
       "      <td>0.072849</td>\n",
       "      <td>0.285933</td>\n",
       "      <td>0.851085</td>\n",
       "      <td>0.912814</td>\n",
       "      <td>0.871871</td>\n",
       "      <td>0.598503</td>\n",
       "      <td>1.000000</td>\n",
       "      <td>0.764783</td>\n",
       "      <td>0.456292</td>\n",
       "      <td>0.960233</td>\n",
       "      <td>0.593198</td>\n",
       "      <td>-0.291116</td>\n",
       "      <td>0.186446</td>\n",
       "    </tr>\n",
       "    <tr>\n",
       "      <th>EPA Interior Volume</th>\n",
       "      <td>0.021891</td>\n",
       "      <td>0.095636</td>\n",
       "      <td>-0.095901</td>\n",
       "      <td>0.350522</td>\n",
       "      <td>0.763285</td>\n",
       "      <td>0.723896</td>\n",
       "      <td>0.940006</td>\n",
       "      <td>0.764783</td>\n",
       "      <td>1.000000</td>\n",
       "      <td>-0.009305</td>\n",
       "      <td>0.793230</td>\n",
       "      <td>0.038614</td>\n",
       "      <td>-0.380547</td>\n",
       "      <td>0.194021</td>\n",
       "    </tr>\n",
       "    <tr>\n",
       "      <th>Length</th>\n",
       "      <td>0.030364</td>\n",
       "      <td>-0.053896</td>\n",
       "      <td>0.519950</td>\n",
       "      <td>0.733043</td>\n",
       "      <td>0.508831</td>\n",
       "      <td>0.356389</td>\n",
       "      <td>-0.240405</td>\n",
       "      <td>0.456292</td>\n",
       "      <td>-0.009305</td>\n",
       "      <td>1.000000</td>\n",
       "      <td>0.495641</td>\n",
       "      <td>0.912663</td>\n",
       "      <td>-0.024250</td>\n",
       "      <td>0.078810</td>\n",
       "    </tr>\n",
       "    <tr>\n",
       "      <th>Overall Width Without Mirrors</th>\n",
       "      <td>0.015901</td>\n",
       "      <td>0.080039</td>\n",
       "      <td>0.331558</td>\n",
       "      <td>0.767783</td>\n",
       "      <td>0.897569</td>\n",
       "      <td>0.854751</td>\n",
       "      <td>0.617062</td>\n",
       "      <td>0.960233</td>\n",
       "      <td>0.793230</td>\n",
       "      <td>0.495641</td>\n",
       "      <td>1.000000</td>\n",
       "      <td>0.581265</td>\n",
       "      <td>-0.278564</td>\n",
       "      <td>0.195947</td>\n",
       "    </tr>\n",
       "    <tr>\n",
       "      <th>Wheel Base</th>\n",
       "      <td>0.010474</td>\n",
       "      <td>-0.024664</td>\n",
       "      <td>0.524655</td>\n",
       "      <td>0.856076</td>\n",
       "      <td>0.541059</td>\n",
       "      <td>0.446217</td>\n",
       "      <td>-0.186571</td>\n",
       "      <td>0.593198</td>\n",
       "      <td>0.038614</td>\n",
       "      <td>0.912663</td>\n",
       "      <td>0.581265</td>\n",
       "      <td>1.000000</td>\n",
       "      <td>-0.047140</td>\n",
       "      <td>0.089200</td>\n",
       "    </tr>\n",
       "    <tr>\n",
       "      <th>MPG</th>\n",
       "      <td>-0.033883</td>\n",
       "      <td>-0.052465</td>\n",
       "      <td>0.207652</td>\n",
       "      <td>-0.166984</td>\n",
       "      <td>-0.351569</td>\n",
       "      <td>-0.342477</td>\n",
       "      <td>-0.372636</td>\n",
       "      <td>-0.291116</td>\n",
       "      <td>-0.380547</td>\n",
       "      <td>-0.024250</td>\n",
       "      <td>-0.278564</td>\n",
       "      <td>-0.047140</td>\n",
       "      <td>1.000000</td>\n",
       "      <td>-0.092380</td>\n",
       "    </tr>\n",
       "    <tr>\n",
       "      <th>CO2 emission(g/km)</th>\n",
       "      <td>0.973185</td>\n",
       "      <td>-0.302294</td>\n",
       "      <td>0.008185</td>\n",
       "      <td>0.127855</td>\n",
       "      <td>0.179283</td>\n",
       "      <td>0.154716</td>\n",
       "      <td>0.173776</td>\n",
       "      <td>0.186446</td>\n",
       "      <td>0.194021</td>\n",
       "      <td>0.078810</td>\n",
       "      <td>0.195947</td>\n",
       "      <td>0.089200</td>\n",
       "      <td>-0.092380</td>\n",
       "      <td>1.000000</td>\n",
       "    </tr>\n",
       "  </tbody>\n",
       "</table>\n",
       "</div>"
      ],
      "text/plain": [
       "                                    Mileage (KM)     Price  Total Seating  \\\n",
       "Mileage (KM)                            1.000000 -0.322803      -0.040279   \n",
       "Price                                  -0.322803  1.000000      -0.043367   \n",
       "Total Seating                          -0.040279 -0.043367       1.000000   \n",
       "Fuel Tank Capacity                     -0.005485 -0.000849       0.428489   \n",
       "Base Engine Size                        0.017855  0.042434       0.076959   \n",
       "Horsepower                              0.007722  0.080189      -0.026362   \n",
       "Cargo Capacity, All Seats In Place      0.031529  0.129350      -0.362667   \n",
       "Curb Weight                             0.002405  0.072849       0.285933   \n",
       "EPA Interior Volume                     0.021891  0.095636      -0.095901   \n",
       "Length                                  0.030364 -0.053896       0.519950   \n",
       "Overall Width Without Mirrors           0.015901  0.080039       0.331558   \n",
       "Wheel Base                              0.010474 -0.024664       0.524655   \n",
       "MPG                                    -0.033883 -0.052465       0.207652   \n",
       "CO2 emission(g/km)                      0.973185 -0.302294       0.008185   \n",
       "\n",
       "                                    Fuel Tank Capacity  Base Engine Size  \\\n",
       "Mileage (KM)                                 -0.005485          0.017855   \n",
       "Price                                        -0.000849          0.042434   \n",
       "Total Seating                                 0.428489          0.076959   \n",
       "Fuel Tank Capacity                            1.000000          0.778824   \n",
       "Base Engine Size                              0.778824          1.000000   \n",
       "Horsepower                                    0.705398          0.945292   \n",
       "Cargo Capacity, All Seats In Place            0.133233          0.612868   \n",
       "Curb Weight                                   0.851085          0.912814   \n",
       "EPA Interior Volume                           0.350522          0.763285   \n",
       "Length                                        0.733043          0.508831   \n",
       "Overall Width Without Mirrors                 0.767783          0.897569   \n",
       "Wheel Base                                    0.856076          0.541059   \n",
       "MPG                                          -0.166984         -0.351569   \n",
       "CO2 emission(g/km)                            0.127855          0.179283   \n",
       "\n",
       "                                    Horsepower  \\\n",
       "Mileage (KM)                          0.007722   \n",
       "Price                                 0.080189   \n",
       "Total Seating                        -0.026362   \n",
       "Fuel Tank Capacity                    0.705398   \n",
       "Base Engine Size                      0.945292   \n",
       "Horsepower                            1.000000   \n",
       "Cargo Capacity, All Seats In Place    0.629456   \n",
       "Curb Weight                           0.871871   \n",
       "EPA Interior Volume                   0.723896   \n",
       "Length                                0.356389   \n",
       "Overall Width Without Mirrors         0.854751   \n",
       "Wheel Base                            0.446217   \n",
       "MPG                                  -0.342477   \n",
       "CO2 emission(g/km)                    0.154716   \n",
       "\n",
       "                                    Cargo Capacity, All Seats In Place  \\\n",
       "Mileage (KM)                                                  0.031529   \n",
       "Price                                                         0.129350   \n",
       "Total Seating                                                -0.362667   \n",
       "Fuel Tank Capacity                                            0.133233   \n",
       "Base Engine Size                                              0.612868   \n",
       "Horsepower                                                    0.629456   \n",
       "Cargo Capacity, All Seats In Place                            1.000000   \n",
       "Curb Weight                                                   0.598503   \n",
       "EPA Interior Volume                                           0.940006   \n",
       "Length                                                       -0.240405   \n",
       "Overall Width Without Mirrors                                 0.617062   \n",
       "Wheel Base                                                   -0.186571   \n",
       "MPG                                                          -0.372636   \n",
       "CO2 emission(g/km)                                            0.173776   \n",
       "\n",
       "                                    Curb Weight  EPA Interior Volume  \\\n",
       "Mileage (KM)                           0.002405             0.021891   \n",
       "Price                                  0.072849             0.095636   \n",
       "Total Seating                          0.285933            -0.095901   \n",
       "Fuel Tank Capacity                     0.851085             0.350522   \n",
       "Base Engine Size                       0.912814             0.763285   \n",
       "Horsepower                             0.871871             0.723896   \n",
       "Cargo Capacity, All Seats In Place     0.598503             0.940006   \n",
       "Curb Weight                            1.000000             0.764783   \n",
       "EPA Interior Volume                    0.764783             1.000000   \n",
       "Length                                 0.456292            -0.009305   \n",
       "Overall Width Without Mirrors          0.960233             0.793230   \n",
       "Wheel Base                             0.593198             0.038614   \n",
       "MPG                                   -0.291116            -0.380547   \n",
       "CO2 emission(g/km)                     0.186446             0.194021   \n",
       "\n",
       "                                      Length  Overall Width Without Mirrors  \\\n",
       "Mileage (KM)                        0.030364                       0.015901   \n",
       "Price                              -0.053896                       0.080039   \n",
       "Total Seating                       0.519950                       0.331558   \n",
       "Fuel Tank Capacity                  0.733043                       0.767783   \n",
       "Base Engine Size                    0.508831                       0.897569   \n",
       "Horsepower                          0.356389                       0.854751   \n",
       "Cargo Capacity, All Seats In Place -0.240405                       0.617062   \n",
       "Curb Weight                         0.456292                       0.960233   \n",
       "EPA Interior Volume                -0.009305                       0.793230   \n",
       "Length                              1.000000                       0.495641   \n",
       "Overall Width Without Mirrors       0.495641                       1.000000   \n",
       "Wheel Base                          0.912663                       0.581265   \n",
       "MPG                                -0.024250                      -0.278564   \n",
       "CO2 emission(g/km)                  0.078810                       0.195947   \n",
       "\n",
       "                                    Wheel Base       MPG  CO2 emission(g/km)  \n",
       "Mileage (KM)                          0.010474 -0.033883            0.973185  \n",
       "Price                                -0.024664 -0.052465           -0.302294  \n",
       "Total Seating                         0.524655  0.207652            0.008185  \n",
       "Fuel Tank Capacity                    0.856076 -0.166984            0.127855  \n",
       "Base Engine Size                      0.541059 -0.351569            0.179283  \n",
       "Horsepower                            0.446217 -0.342477            0.154716  \n",
       "Cargo Capacity, All Seats In Place   -0.186571 -0.372636            0.173776  \n",
       "Curb Weight                           0.593198 -0.291116            0.186446  \n",
       "EPA Interior Volume                   0.038614 -0.380547            0.194021  \n",
       "Length                                0.912663 -0.024250            0.078810  \n",
       "Overall Width Without Mirrors         0.581265 -0.278564            0.195947  \n",
       "Wheel Base                            1.000000 -0.047140            0.089200  \n",
       "MPG                                  -0.047140  1.000000           -0.092380  \n",
       "CO2 emission(g/km)                    0.089200 -0.092380            1.000000  "
      ]
     },
     "execution_count": 37,
     "metadata": {},
     "output_type": "execute_result"
    }
   ],
   "source": [
    "df.corr()"
   ]
  },
  {
   "cell_type": "code",
   "execution_count": 38,
   "metadata": {},
   "outputs": [
    {
     "data": {
      "text/plain": [
       "<AxesSubplot:xlabel='Price', ylabel='CO2 emission(g/km)'>"
      ]
     },
     "execution_count": 38,
     "metadata": {},
     "output_type": "execute_result"
    },
    {
     "data": {
      "image/png": "[encoded data removed]",
      "text/plain": [
       "<Figure size 432x288 with 1 Axes>"
      ]
     },
     "metadata": {
      "needs_background": "light"
     },
     "output_type": "display_data"
    }
   ],
   "source": [
    "df.plot(x=\"Price\", y='CO2 emission(g/km)', kind='scatter', alpha=0.2)"
   ]
  },
  {
   "cell_type": "code",
   "execution_count": 39,
   "metadata": {},
   "outputs": [],
   "source": [
    "trainy = df[\"CO2 emission(g/km)\"]\n",
    "train = df.drop([\"CO2 emission(g/km)\"], axis=1)"
   ]
  },
  {
   "cell_type": "code",
   "execution_count": 40,
   "metadata": {},
   "outputs": [
    {
     "data": {
      "text/plain": [
       "0       19469627.0\n",
       "1        6058308.0\n",
       "2       12367660.0\n",
       "3        7063752.0\n",
       "4       26372915.0\n",
       "           ...    \n",
       "1741     6468057.0\n",
       "1742    14773838.0\n",
       "1743     9376637.0\n",
       "1744    10634819.0\n",
       "1745     9965181.0\n",
       "Name: CO2 emission(g/km), Length: 1746, dtype: float64"
      ]
     },
     "execution_count": 40,
     "metadata": {},
     "output_type": "execute_result"
    }
   ],
   "source": [
    "trainy"
   ]
  },
  {
   "cell_type": "code",
   "execution_count": 41,
   "metadata": {},
   "outputs": [
    {
     "data": {
      "text/plain": [
       "1746"
      ]
     },
     "execution_count": 41,
     "metadata": {},
     "output_type": "execute_result"
    }
   ],
   "source": [
    "len(train)"
   ]
  },
  {
   "cell_type": "code",
   "execution_count": 42,
   "metadata": {},
   "outputs": [
    {
     "data": {
      "text/html": [
       "<div>\n",
       "<style scoped>\n",
       "    .dataframe tbody tr th:only-of-type {\n",
       "        vertical-align: middle;\n",
       "    }\n",
       "\n",
       "    .dataframe tbody tr th {\n",
       "        vertical-align: top;\n",
       "    }\n",
       "\n",
       "    .dataframe thead th {\n",
       "        text-align: right;\n",
       "    }\n",
       "</style>\n",
       "<table border=\"1\" class=\"dataframe\">\n",
       "  <thead>\n",
       "    <tr style=\"text-align: right;\">\n",
       "      <th></th>\n",
       "      <th>Mileage (KM)</th>\n",
       "      <th>Price</th>\n",
       "      <th>Total Seating</th>\n",
       "      <th>Fuel Tank Capacity</th>\n",
       "      <th>Base Engine Size</th>\n",
       "      <th>Horsepower</th>\n",
       "      <th>Cargo Capacity, All Seats In Place</th>\n",
       "      <th>Curb Weight</th>\n",
       "      <th>EPA Interior Volume</th>\n",
       "      <th>Length</th>\n",
       "      <th>Overall Width Without Mirrors</th>\n",
       "      <th>Wheel Base</th>\n",
       "      <th>MPG</th>\n",
       "    </tr>\n",
       "  </thead>\n",
       "  <tbody>\n",
       "    <tr>\n",
       "      <th>0</th>\n",
       "      <td>239148.0</td>\n",
       "      <td>3146000</td>\n",
       "      <td>5</td>\n",
       "      <td>14.5</td>\n",
       "      <td>2.5</td>\n",
       "      <td>203</td>\n",
       "      <td>37.5</td>\n",
       "      <td>3490</td>\n",
       "      <td>136.4</td>\n",
       "      <td>180.9</td>\n",
       "      <td>73.0</td>\n",
       "      <td>105.9</td>\n",
       "      <td>20</td>\n",
       "    </tr>\n",
       "    <tr>\n",
       "      <th>1</th>\n",
       "      <td>74415.0</td>\n",
       "      <td>2698000</td>\n",
       "      <td>5</td>\n",
       "      <td>14.5</td>\n",
       "      <td>2.5</td>\n",
       "      <td>203</td>\n",
       "      <td>37.5</td>\n",
       "      <td>3490</td>\n",
       "      <td>136.4</td>\n",
       "      <td>180.9</td>\n",
       "      <td>73.0</td>\n",
       "      <td>105.9</td>\n",
       "      <td>26</td>\n",
       "    </tr>\n",
       "    <tr>\n",
       "      <th>2</th>\n",
       "      <td>157152.0</td>\n",
       "      <td>2362000</td>\n",
       "      <td>5</td>\n",
       "      <td>14.5</td>\n",
       "      <td>2.5</td>\n",
       "      <td>181</td>\n",
       "      <td>31.6</td>\n",
       "      <td>3371</td>\n",
       "      <td>137.0</td>\n",
       "      <td>183.0</td>\n",
       "      <td>72.4</td>\n",
       "      <td>106.5</td>\n",
       "      <td>28</td>\n",
       "    </tr>\n",
       "    <tr>\n",
       "      <th>3</th>\n",
       "      <td>86765.0</td>\n",
       "      <td>2026000</td>\n",
       "      <td>5</td>\n",
       "      <td>14.5</td>\n",
       "      <td>2.5</td>\n",
       "      <td>203</td>\n",
       "      <td>37.5</td>\n",
       "      <td>3490</td>\n",
       "      <td>136.4</td>\n",
       "      <td>180.9</td>\n",
       "      <td>73.0</td>\n",
       "      <td>105.9</td>\n",
       "      <td>14</td>\n",
       "    </tr>\n",
       "    <tr>\n",
       "      <th>4</th>\n",
       "      <td>323942.0</td>\n",
       "      <td>2495000</td>\n",
       "      <td>5</td>\n",
       "      <td>14.5</td>\n",
       "      <td>2.5</td>\n",
       "      <td>203</td>\n",
       "      <td>37.5</td>\n",
       "      <td>3490</td>\n",
       "      <td>136.4</td>\n",
       "      <td>180.9</td>\n",
       "      <td>73.0</td>\n",
       "      <td>105.9</td>\n",
       "      <td>26</td>\n",
       "    </tr>\n",
       "  </tbody>\n",
       "</table>\n",
       "</div>"
      ],
      "text/plain": [
       "   Mileage (KM)    Price  Total Seating  Fuel Tank Capacity  Base Engine Size  \\\n",
       "0      239148.0  3146000              5                14.5               2.5   \n",
       "1       74415.0  2698000              5                14.5               2.5   \n",
       "2      157152.0  2362000              5                14.5               2.5   \n",
       "3       86765.0  2026000              5                14.5               2.5   \n",
       "4      323942.0  2495000              5                14.5               2.5   \n",
       "\n",
       "   Horsepower  Cargo Capacity, All Seats In Place  Curb Weight  \\\n",
       "0         203                                37.5         3490   \n",
       "1         203                                37.5         3490   \n",
       "2         181                                31.6         3371   \n",
       "3         203                                37.5         3490   \n",
       "4         203                                37.5         3490   \n",
       "\n",
       "   EPA Interior Volume  Length  Overall Width Without Mirrors  Wheel Base  MPG  \n",
       "0                136.4   180.9                           73.0       105.9   20  \n",
       "1                136.4   180.9                           73.0       105.9   26  \n",
       "2                137.0   183.0                           72.4       106.5   28  \n",
       "3                136.4   180.9                           73.0       105.9   14  \n",
       "4                136.4   180.9                           73.0       105.9   26  "
      ]
     },
     "execution_count": 42,
     "metadata": {},
     "output_type": "execute_result"
    }
   ],
   "source": [
    "train.head()"
   ]
  },
  {
   "cell_type": "code",
   "execution_count": 43,
   "metadata": {},
   "outputs": [],
   "source": [
    "X_train, X_test, y_train, y_test = train_test_split(train, trainy, test_size=0.25, random_state=rand_state)"
   ]
  },
  {
   "cell_type": "markdown",
   "metadata": {},
   "source": [
    "# Random Forest Feature Importance Analysis"
   ]
  },
  {
   "cell_type": "code",
   "execution_count": 44,
   "metadata": {},
   "outputs": [
    {
     "name": "stdout",
     "output_type": "stream",
     "text": [
      "157596.65315789467\n"
     ]
    },
    {
     "data": {
      "image/png": "[encoded data removed]",
      "text/plain": [
       "<Figure size 1440x1440 with 1 Axes>"
      ]
     },
     "metadata": {
      "needs_background": "light"
     },
     "output_type": "display_data"
    }
   ],
   "source": [
    "model = RandomForestRegressor(random_state=rand_state).fit(X_train, y_train)\n",
    "#validation set prediction\n",
    "predictions = model.predict(X_test)\n",
    "print(mean_absolute_error(y_test, predictions))\n",
    "\n",
    "features = train.columns\n",
    "importances = model.feature_importances_\n",
    "indices = np.argsort(importances)\n",
    "\n",
    "plt.figure(figsize=[20, 20])\n",
    "plt.title('Feature Importances')\n",
    "plt.barh(range(len(indices)), importances[indices], color='b', align='center')\n",
    "plt.yticks(range(len(indices)), [features[i] for i in indices])\n",
    "plt.xlabel('Relative Importance')\n",
    "plt.show()"
   ]
  },
  {
   "cell_type": "markdown",
   "metadata": {},
   "source": [
    "# OLS Analysis and Permutation Analysis"
   ]
  },
  {
   "cell_type": "code",
   "execution_count": 45,
   "metadata": {},
   "outputs": [
    {
     "name": "stdout",
     "output_type": "stream",
     "text": [
      "\tOLS Coefficients for each feature\n",
      "\n",
      "Base Engine Size 3841071.687353597\n",
      "Total Seating 1978286.1921047417\n",
      "Fuel Tank Capacity 746791.2664717275\n",
      "Wheel Base 746218.1827182976\n",
      "Length 452085.00587412156\n",
      "Overall Width Without Mirrors 237669.89240497092\n",
      "Cargo Capacity, All Seats In Place 150361.28937305434\n",
      "Horsepower 25906.774557520872\n",
      "EPA Interior Volume 14343.685702405039\n",
      "Curb Weight 6262.603222218853\n",
      "MPG 887.7683159494698\n",
      "Mileage (KM) 78.98205077021221\n",
      "Price 0.0008846378232389149\n",
      "\n",
      "\tPermutation Analysis\n",
      "\n",
      "Mileage (KM) 1.945  +/- 0.095\n",
      "Curb Weight 0.123  +/- 0.005\n",
      "Cargo Capacity, All Seats In Place 0.091  +/- 0.005\n",
      "Length   0.075  +/- 0.003\n",
      "Base Engine Size 0.061  +/- 0.003\n",
      "Wheel Base 0.061  +/- 0.004\n",
      "Fuel Tank Capacity 0.040  +/- 0.003\n",
      "Horsepower 0.024  +/- 0.002\n",
      "Total Seating 0.024  +/- 0.002\n",
      "Overall Width Without Mirrors 0.004  +/- 0.001\n",
      "EPA Interior Volume 0.001  +/- 0.000\n"
     ]
    }
   ],
   "source": [
    "# OLS Analysis\n",
    "model = LinearRegression().fit(X_train, y_train)\n",
    "model.score(X_test, y_test)\n",
    "print(\"\\tOLS Coefficients for each feature\\n\")\n",
    "for i in np.abs(model.coef_).argsort()[::-1]:\n",
    "    print(list(train.columns)[i], np.abs(model.coef_[i]))\n",
    "\n",
    "print(\"\\n\\tPermutation Analysis\\n\")\n",
    "r = permutation_importance(model, X_test, y_test,\n",
    "                           n_repeats=30,\n",
    "                           random_state=rand_state)\n",
    "\n",
    "for i in r.importances_mean.argsort()[::-1]:\n",
    "    if r.importances_mean[i] - 2 * r.importances_std[i] > 0:\n",
    "        print(f\"{list(train.columns)[i]:<8} \"\n",
    "              f\"{r.importances_mean[i]:.3f} \"\n",
    "              f\" +/- {r.importances_std[i]:.3f}\")"
   ]
  },
  {
   "cell_type": "code",
   "execution_count": 46,
   "metadata": {},
   "outputs": [
    {
     "data": {
      "text/html": [
       "<table class=\"simpletable\">\n",
       "<caption>OLS Regression Results</caption>\n",
       "<tr>\n",
       "  <th>Dep. Variable:</th>    <td>CO2 emission(g/km)</td> <th>  R-squared (uncentered):</th>      <td>   0.996</td> \n",
       "</tr>\n",
       "<tr>\n",
       "  <th>Model:</th>                    <td>OLS</td>        <th>  Adj. R-squared (uncentered):</th> <td>   0.996</td> \n",
       "</tr>\n",
       "<tr>\n",
       "  <th>Method:</th>              <td>Least Squares</td>   <th>  F-statistic:       </th>          <td>2.783e+04</td>\n",
       "</tr>\n",
       "<tr>\n",
       "  <th>Date:</th>              <td>Sun, 05 Sep 2021</td>  <th>  Prob (F-statistic):</th>           <td>  0.00</td>  \n",
       "</tr>\n",
       "<tr>\n",
       "  <th>Time:</th>                  <td>18:42:13</td>      <th>  Log-Likelihood:    </th>          <td> -19721.</td> \n",
       "</tr>\n",
       "<tr>\n",
       "  <th>No. Observations:</th>       <td>  1309</td>       <th>  AIC:               </th>          <td>3.947e+04</td>\n",
       "</tr>\n",
       "<tr>\n",
       "  <th>Df Residuals:</th>           <td>  1296</td>       <th>  BIC:               </th>          <td>3.954e+04</td>\n",
       "</tr>\n",
       "<tr>\n",
       "  <th>Df Model:</th>               <td>    13</td>       <th>                     </th>              <td> </td>    \n",
       "</tr>\n",
       "<tr>\n",
       "  <th>Covariance Type:</th>       <td>nonrobust</td>     <th>                     </th>              <td> </td>    \n",
       "</tr>\n",
       "</table>\n",
       "<table class=\"simpletable\">\n",
       "<tr>\n",
       "                   <td></td>                     <th>coef</th>     <th>std err</th>      <th>t</th>      <th>P>|t|</th>  <th>[0.025</th>    <th>0.975]</th>  \n",
       "</tr>\n",
       "<tr>\n",
       "  <th>Mileage (KM)</th>                       <td>   79.0422</td> <td>    0.254</td> <td>  310.913</td> <td> 0.000</td> <td>   78.543</td> <td>   79.541</td>\n",
       "</tr>\n",
       "<tr>\n",
       "  <th>Price</th>                              <td>    0.0005</td> <td>    0.008</td> <td>    0.067</td> <td> 0.946</td> <td>   -0.014</td> <td>    0.015</td>\n",
       "</tr>\n",
       "<tr>\n",
       "  <th>Total Seating</th>                      <td> 3.303e+06</td> <td> 3.89e+05</td> <td>    8.498</td> <td> 0.000</td> <td> 2.54e+06</td> <td> 4.07e+06</td>\n",
       "</tr>\n",
       "<tr>\n",
       "  <th>Fuel Tank Capacity</th>                 <td> 1.113e+06</td> <td> 1.77e+05</td> <td>    6.274</td> <td> 0.000</td> <td> 7.65e+05</td> <td> 1.46e+06</td>\n",
       "</tr>\n",
       "<tr>\n",
       "  <th>Base Engine Size</th>                   <td>  3.73e+06</td> <td> 6.02e+05</td> <td>    6.200</td> <td> 0.000</td> <td> 2.55e+06</td> <td> 4.91e+06</td>\n",
       "</tr>\n",
       "<tr>\n",
       "  <th>Horsepower</th>                         <td>-1.155e+04</td> <td> 5927.106</td> <td>   -1.948</td> <td> 0.052</td> <td>-2.32e+04</td> <td>   79.225</td>\n",
       "</tr>\n",
       "<tr>\n",
       "  <th>Cargo Capacity, All Seats In Place</th> <td> 2.401e+05</td> <td> 3.45e+04</td> <td>    6.952</td> <td> 0.000</td> <td> 1.72e+05</td> <td> 3.08e+05</td>\n",
       "</tr>\n",
       "<tr>\n",
       "  <th>Curb Weight</th>                        <td>-9167.8035</td> <td> 1763.842</td> <td>   -5.198</td> <td> 0.000</td> <td>-1.26e+04</td> <td>-5707.506</td>\n",
       "</tr>\n",
       "<tr>\n",
       "  <th>EPA Interior Volume</th>                <td> 1.749e+04</td> <td> 1.35e+04</td> <td>    1.298</td> <td> 0.194</td> <td>-8941.091</td> <td> 4.39e+04</td>\n",
       "</tr>\n",
       "<tr>\n",
       "  <th>Length</th>                             <td>-4.734e+05</td> <td> 3.86e+04</td> <td>  -12.263</td> <td> 0.000</td> <td>-5.49e+05</td> <td>-3.98e+05</td>\n",
       "</tr>\n",
       "<tr>\n",
       "  <th>Overall Width Without Mirrors</th>      <td>-3.937e+05</td> <td> 1.22e+05</td> <td>   -3.236</td> <td> 0.001</td> <td>-6.32e+05</td> <td>-1.55e+05</td>\n",
       "</tr>\n",
       "<tr>\n",
       "  <th>Wheel Base</th>                         <td> 9.037e+05</td> <td> 9.25e+04</td> <td>    9.772</td> <td> 0.000</td> <td> 7.22e+05</td> <td> 1.09e+06</td>\n",
       "</tr>\n",
       "<tr>\n",
       "  <th>MPG</th>                                <td>  188.5857</td> <td> 2911.502</td> <td>    0.065</td> <td> 0.948</td> <td>-5523.187</td> <td> 5900.358</td>\n",
       "</tr>\n",
       "</table>\n",
       "<table class=\"simpletable\">\n",
       "<tr>\n",
       "  <th>Omnibus:</th>       <td>337.093</td> <th>  Durbin-Watson:     </th> <td>   2.033</td>\n",
       "</tr>\n",
       "<tr>\n",
       "  <th>Prob(Omnibus):</th> <td> 0.000</td>  <th>  Jarque-Bera (JB):  </th> <td>7607.541</td>\n",
       "</tr>\n",
       "<tr>\n",
       "  <th>Skew:</th>          <td>-0.634</td>  <th>  Prob(JB):          </th> <td>    0.00</td>\n",
       "</tr>\n",
       "<tr>\n",
       "  <th>Kurtosis:</th>      <td>14.742</td>  <th>  Cond. No.          </th> <td>1.26e+08</td>\n",
       "</tr>\n",
       "</table><br/><br/>Notes:<br/>[1] R² is computed without centering (uncentered) since the model does not contain a constant.<br/>[2] Standard Errors assume that the covariance matrix of the errors is correctly specified.<br/>[3] The condition number is large, 1.26e+08. This might indicate that there are<br/>strong multicollinearity or other numerical problems."
      ],
      "text/plain": [
       "<class 'statsmodels.iolib.summary.Summary'>\n",
       "\"\"\"\n",
       "                                 OLS Regression Results                                \n",
       "=======================================================================================\n",
       "Dep. Variable:     CO2 emission(g/km)   R-squared (uncentered):                   0.996\n",
       "Model:                            OLS   Adj. R-squared (uncentered):              0.996\n",
       "Method:                 Least Squares   F-statistic:                          2.783e+04\n",
       "Date:                Sun, 05 Sep 2021   Prob (F-statistic):                        0.00\n",
       "Time:                        18:42:13   Log-Likelihood:                         -19721.\n",
       "No. Observations:                1309   AIC:                                  3.947e+04\n",
       "Df Residuals:                    1296   BIC:                                  3.954e+04\n",
       "Df Model:                          13                                                  \n",
       "Covariance Type:            nonrobust                                                  \n",
       "======================================================================================================\n",
       "                                         coef    std err          t      P>|t|      [0.025      0.975]\n",
       "------------------------------------------------------------------------------------------------------\n",
       "Mileage (KM)                          79.0422      0.254    310.913      0.000      78.543      79.541\n",
       "Price                                  0.0005      0.008      0.067      0.946      -0.014       0.015\n",
       "Total Seating                       3.303e+06   3.89e+05      8.498      0.000    2.54e+06    4.07e+06\n",
       "Fuel Tank Capacity                  1.113e+06   1.77e+05      6.274      0.000    7.65e+05    1.46e+06\n",
       "Base Engine Size                     3.73e+06   6.02e+05      6.200      0.000    2.55e+06    4.91e+06\n",
       "Horsepower                         -1.155e+04   5927.106     -1.948      0.052   -2.32e+04      79.225\n",
       "Cargo Capacity, All Seats In Place  2.401e+05   3.45e+04      6.952      0.000    1.72e+05    3.08e+05\n",
       "Curb Weight                        -9167.8035   1763.842     -5.198      0.000   -1.26e+04   -5707.506\n",
       "EPA Interior Volume                 1.749e+04   1.35e+04      1.298      0.194   -8941.091    4.39e+04\n",
       "Length                             -4.734e+05   3.86e+04    -12.263      0.000   -5.49e+05   -3.98e+05\n",
       "Overall Width Without Mirrors      -3.937e+05   1.22e+05     -3.236      0.001   -6.32e+05   -1.55e+05\n",
       "Wheel Base                          9.037e+05   9.25e+04      9.772      0.000    7.22e+05    1.09e+06\n",
       "MPG                                  188.5857   2911.502      0.065      0.948   -5523.187    5900.358\n",
       "==============================================================================\n",
       "Omnibus:                      337.093   Durbin-Watson:                   2.033\n",
       "Prob(Omnibus):                  0.000   Jarque-Bera (JB):             7607.541\n",
       "Skew:                          -0.634   Prob(JB):                         0.00\n",
       "Kurtosis:                      14.742   Cond. No.                     1.26e+08\n",
       "==============================================================================\n",
       "\n",
       "Notes:\n",
       "[1] R² is computed without centering (uncentered) since the model does not contain a constant.\n",
       "[2] Standard Errors assume that the covariance matrix of the errors is correctly specified.\n",
       "[3] The condition number is large, 1.26e+08. This might indicate that there are\n",
       "strong multicollinearity or other numerical problems.\n",
       "\"\"\""
      ]
     },
     "execution_count": 46,
     "metadata": {},
     "output_type": "execute_result"
    }
   ],
   "source": [
    "import statsmodels.api as sm\n",
    "model = sm.OLS(y_train, X_train)\n",
    "results = model.fit()\n",
    "results.summary()"
   ]
  },
  {
   "cell_type": "markdown",
   "metadata": {},
   "source": [
    "# Normal Test"
   ]
  },
  {
   "cell_type": "code",
   "execution_count": 47,
   "metadata": {},
   "outputs": [
    {
     "data": {
      "text/html": [
       "<div>\n",
       "<style scoped>\n",
       "    .dataframe tbody tr th:only-of-type {\n",
       "        vertical-align: middle;\n",
       "    }\n",
       "\n",
       "    .dataframe tbody tr th {\n",
       "        vertical-align: top;\n",
       "    }\n",
       "\n",
       "    .dataframe thead th {\n",
       "        text-align: right;\n",
       "    }\n",
       "</style>\n",
       "<table border=\"1\" class=\"dataframe\">\n",
       "  <thead>\n",
       "    <tr style=\"text-align: right;\">\n",
       "      <th></th>\n",
       "      <th>Features</th>\n",
       "      <th>k2</th>\n",
       "      <th>P</th>\n",
       "      <th>Null Hypothesis</th>\n",
       "    </tr>\n",
       "  </thead>\n",
       "  <tbody>\n",
       "    <tr>\n",
       "      <th>0</th>\n",
       "      <td>Mileage (KM)</td>\n",
       "      <td>2129.7248251544343</td>\n",
       "      <td>0.0</td>\n",
       "      <td>rejected</td>\n",
       "    </tr>\n",
       "    <tr>\n",
       "      <th>1</th>\n",
       "      <td>Price</td>\n",
       "      <td>1403.2558357943628</td>\n",
       "      <td>1.935828627343996e-305</td>\n",
       "      <td>rejected</td>\n",
       "    </tr>\n",
       "    <tr>\n",
       "      <th>2</th>\n",
       "      <td>Total Seating</td>\n",
       "      <td>1596.5475415612348</td>\n",
       "      <td>0.0</td>\n",
       "      <td>rejected</td>\n",
       "    </tr>\n",
       "    <tr>\n",
       "      <th>3</th>\n",
       "      <td>Fuel Tank Capacity</td>\n",
       "      <td>1391.5980479800523</td>\n",
       "      <td>6.581476993000835e-303</td>\n",
       "      <td>rejected</td>\n",
       "    </tr>\n",
       "    <tr>\n",
       "      <th>4</th>\n",
       "      <td>Base Engine Size</td>\n",
       "      <td>128.20395496934992</td>\n",
       "      <td>1.4483212385101378e-28</td>\n",
       "      <td>rejected</td>\n",
       "    </tr>\n",
       "    <tr>\n",
       "      <th>5</th>\n",
       "      <td>Horsepower</td>\n",
       "      <td>108.7263423512914</td>\n",
       "      <td>2.456827924311913e-24</td>\n",
       "      <td>rejected</td>\n",
       "    </tr>\n",
       "    <tr>\n",
       "      <th>6</th>\n",
       "      <td>Cargo Capacity, All Seats In Place</td>\n",
       "      <td>300.49835044679884</td>\n",
       "      <td>5.592581090861781e-66</td>\n",
       "      <td>rejected</td>\n",
       "    </tr>\n",
       "    <tr>\n",
       "      <th>7</th>\n",
       "      <td>Curb Weight</td>\n",
       "      <td>200.54733226336037</td>\n",
       "      <td>2.8294375888714823e-44</td>\n",
       "      <td>rejected</td>\n",
       "    </tr>\n",
       "    <tr>\n",
       "      <th>8</th>\n",
       "      <td>EPA Interior Volume</td>\n",
       "      <td>371.8399786698707</td>\n",
       "      <td>1.8029121119523605e-81</td>\n",
       "      <td>rejected</td>\n",
       "    </tr>\n",
       "    <tr>\n",
       "      <th>9</th>\n",
       "      <td>Length</td>\n",
       "      <td>468.7866776860261</td>\n",
       "      <td>1.600539311886702e-102</td>\n",
       "      <td>rejected</td>\n",
       "    </tr>\n",
       "    <tr>\n",
       "      <th>10</th>\n",
       "      <td>Overall Width Without Mirrors</td>\n",
       "      <td>336.0617025558174</td>\n",
       "      <td>1.0595671870704821e-73</td>\n",
       "      <td>rejected</td>\n",
       "    </tr>\n",
       "    <tr>\n",
       "      <th>11</th>\n",
       "      <td>Wheel Base</td>\n",
       "      <td>1119.224773721722</td>\n",
       "      <td>9.192388729992193e-244</td>\n",
       "      <td>rejected</td>\n",
       "    </tr>\n",
       "    <tr>\n",
       "      <th>12</th>\n",
       "      <td>MPG</td>\n",
       "      <td>1702.1633733668596</td>\n",
       "      <td>0.0</td>\n",
       "      <td>rejected</td>\n",
       "    </tr>\n",
       "    <tr>\n",
       "      <th>13</th>\n",
       "      <td>CO2 emission(g/km)</td>\n",
       "      <td>2150.601509152529</td>\n",
       "      <td>0.0</td>\n",
       "      <td>rejected</td>\n",
       "    </tr>\n",
       "  </tbody>\n",
       "</table>\n",
       "</div>"
      ],
      "text/plain": [
       "                              Features                  k2  \\\n",
       "0                         Mileage (KM)  2129.7248251544343   \n",
       "1                                Price  1403.2558357943628   \n",
       "2                        Total Seating  1596.5475415612348   \n",
       "3                   Fuel Tank Capacity  1391.5980479800523   \n",
       "4                     Base Engine Size  128.20395496934992   \n",
       "5                           Horsepower   108.7263423512914   \n",
       "6   Cargo Capacity, All Seats In Place  300.49835044679884   \n",
       "7                          Curb Weight  200.54733226336037   \n",
       "8                  EPA Interior Volume   371.8399786698707   \n",
       "9                               Length   468.7866776860261   \n",
       "10       Overall Width Without Mirrors   336.0617025558174   \n",
       "11                          Wheel Base   1119.224773721722   \n",
       "12                                 MPG  1702.1633733668596   \n",
       "13                  CO2 emission(g/km)   2150.601509152529   \n",
       "\n",
       "                         P Null Hypothesis  \n",
       "0                      0.0        rejected  \n",
       "1   1.935828627343996e-305        rejected  \n",
       "2                      0.0        rejected  \n",
       "3   6.581476993000835e-303        rejected  \n",
       "4   1.4483212385101378e-28        rejected  \n",
       "5    2.456827924311913e-24        rejected  \n",
       "6    5.592581090861781e-66        rejected  \n",
       "7   2.8294375888714823e-44        rejected  \n",
       "8   1.8029121119523605e-81        rejected  \n",
       "9   1.600539311886702e-102        rejected  \n",
       "10  1.0595671870704821e-73        rejected  \n",
       "11  9.192388729992193e-244        rejected  \n",
       "12                     0.0        rejected  \n",
       "13                     0.0        rejected  "
      ]
     },
     "execution_count": 47,
     "metadata": {},
     "output_type": "execute_result"
    }
   ],
   "source": [
    "arr_null_hyp = []\n",
    "k2, p = stats.normaltest(df)\n",
    "alpha = 1e-3\n",
    "feature_columns = list(df.columns)\n",
    "for i in range(len(list(feature_columns))):\n",
    "    if p[i] < alpha:  # null hypothesis: feature comes from a normal distribution\n",
    "        arr_null_hyp.append(\"rejected\")\n",
    "    else:\n",
    "        arr_null_hyp.append(\"accepted\")\n",
    "pd.DataFrame(np.c_[feature_columns, k2, p, arr_null_hyp], columns=[\"Features\", \"k2\", \"P\", \"Null Hypothesis\"])"
   ]
  },
  {
   "cell_type": "markdown",
   "metadata": {},
   "source": [
    "# f_regression Analysis"
   ]
  },
  {
   "cell_type": "code",
   "execution_count": 48,
   "metadata": {
    "scrolled": false
   },
   "outputs": [
    {
     "name": "stdout",
     "output_type": "stream",
     "text": [
      "Mileage (KM): 24973.982071\n",
      "Price: 118.725062\n",
      "Total Seating: 0.704579\n",
      "Fuel Tank Capacity: 20.433126\n",
      "Base Engine Size: 39.375158\n",
      "Horsepower: 26.144392\n",
      "Cargo Capacity, All Seats In Place: 35.805625\n",
      "Curb Weight: 43.572520\n",
      "EPA Interior Volume: 47.419674\n",
      "Length: 8.577803\n",
      "Overall Width Without Mirrors: 48.688497\n",
      "Wheel Base: 10.197009\n",
      "MPG: 6.736827\n"
     ]
    },
    {
     "data": {
      "image/png": "[encoded data removed]",
      "text/plain": [
       "<Figure size 1440x720 with 1 Axes>"
      ]
     },
     "metadata": {
      "needs_background": "light"
     },
     "output_type": "display_data"
    }
   ],
   "source": [
    "from sklearn.model_selection import train_test_split\n",
    "from sklearn.feature_selection import SelectKBest\n",
    "from sklearn.feature_selection import f_regression\n",
    "from matplotlib import pyplot\n",
    "\n",
    "# feature selection with f_regression\n",
    "def select_features(X_train, y_train, X_test):\n",
    "    # configure to select all features\n",
    "    fs = SelectKBest(score_func=f_regression, k='all')\n",
    "    # learn relationship from training data\n",
    "    fs.fit(X_train, y_train)\n",
    "    # transform train input data\n",
    "    X_train_fs = fs.transform(X_train)\n",
    "    # transform test input data\n",
    "    X_test_fs = fs.transform(X_test)\n",
    "    return X_train_fs, X_test_fs, fs\n",
    "\n",
    "# feature selection\n",
    "X_train_fs, X_test_fs, fs = select_features(X_train, y_train, X_test)\n",
    "# what are scores for the features\n",
    "for i in range(len(fs.scores_)):\n",
    "    print('%s: %f' % (list(train.columns)[i], fs.scores_[i]))\n",
    "# plot the scores\n",
    "pyplot.figure(figsize=[20, 10])\n",
    "pyplot.bar([list(train.columns)[i] for i in range(len(fs.scores_))], fs.scores_)\n",
    "pyplot.show()"
   ]
  },
  {
   "cell_type": "markdown",
   "metadata": {},
   "source": [
    "# CatBoost Model and Feature Importance Analysis"
   ]
  },
  {
   "cell_type": "code",
   "execution_count": 49,
   "metadata": {
    "scrolled": true
   },
   "outputs": [
    {
     "name": "stdout",
     "output_type": "stream",
     "text": [
      "0:\tlearn: 5001697.3160294\ttest: 5001697.3160294\ttest1: 5020621.9928855\tbest: 5020621.9928855 (0)\ttotal: 57.3ms\tremaining: 3h 10m 58s\n",
      "5000:\tlearn: 541042.9368709\ttest: 541042.9368709\ttest1: 480589.1633581\tbest: 480589.1633581 (5000)\ttotal: 14s\tremaining: 9m 4s\n",
      "10000:\tlearn: 325008.6970977\ttest: 325008.6970977\ttest1: 286310.4837412\tbest: 286310.4837412 (10000)\ttotal: 27.2s\tremaining: 8m 37s\n",
      "15000:\tlearn: 238491.0349153\ttest: 238491.0349153\ttest1: 205527.8938059\tbest: 205527.1923301 (14999)\ttotal: 40.1s\tremaining: 8m 14s\n",
      "20000:\tlearn: 182414.5233019\ttest: 182414.5233019\ttest1: 166624.7438972\tbest: 166624.7438972 (20000)\ttotal: 53.2s\tremaining: 7m 58s\n",
      "25000:\tlearn: 139930.5306582\ttest: 139930.5306582\ttest1: 149046.1371372\tbest: 149046.1371372 (25000)\ttotal: 1m 5s\tremaining: 7m 36s\n",
      "30000:\tlearn: 109061.8107521\ttest: 109061.8107521\ttest1: 136242.3069345\tbest: 136242.3069345 (30000)\ttotal: 1m 17s\tremaining: 7m 17s\n",
      "35000:\tlearn: 92783.1593941\ttest: 92783.1593941\ttest1: 127828.8593679\tbest: 127828.8593679 (35000)\ttotal: 1m 29s\tremaining: 7m\n",
      "40000:\tlearn: 82123.1069984\ttest: 82123.1069984\ttest1: 122568.5662031\tbest: 122568.5662031 (40000)\ttotal: 1m 41s\tremaining: 6m 44s\n",
      "45000:\tlearn: 76754.3328079\ttest: 76754.3328079\ttest1: 118423.9738809\tbest: 118423.9738809 (45000)\ttotal: 1m 53s\tremaining: 6m 31s\n",
      "50000:\tlearn: 72202.5164321\ttest: 72202.5164321\ttest1: 115975.2340484\tbest: 115974.2351098 (49999)\ttotal: 2m 6s\tremaining: 6m 18s\n",
      "55000:\tlearn: 68785.9338202\ttest: 68785.9338202\ttest1: 113806.2689473\tbest: 113799.0563524 (54997)\ttotal: 2m 18s\tremaining: 6m 4s\n",
      "60000:\tlearn: 66160.8795785\ttest: 66160.8795785\ttest1: 112078.5842158\tbest: 112078.5842158 (60000)\ttotal: 2m 30s\tremaining: 5m 50s\n",
      "65000:\tlearn: 63923.4776250\ttest: 63923.4776250\ttest1: 111548.2821870\tbest: 111548.2821870 (65000)\ttotal: 2m 42s\tremaining: 5m 36s\n",
      "70000:\tlearn: 61894.0804383\ttest: 61894.0804383\ttest1: 111128.4179105\tbest: 111109.6688439 (69928)\ttotal: 2m 54s\tremaining: 5m 23s\n",
      "75000:\tlearn: 60173.1324090\ttest: 60173.1324090\ttest1: 110684.0812375\tbest: 110682.4759647 (74975)\ttotal: 3m 5s\tremaining: 5m 9s\n",
      "80000:\tlearn: 58627.8226060\ttest: 58627.8226060\ttest1: 110370.1053046\tbest: 110368.9673069 (79969)\ttotal: 3m 17s\tremaining: 4m 56s\n",
      "85000:\tlearn: 57317.0211615\ttest: 57317.0211615\ttest1: 109983.0605319\tbest: 109982.3609539 (84987)\ttotal: 3m 29s\tremaining: 4m 43s\n",
      "90000:\tlearn: 56046.2017504\ttest: 56046.2017504\ttest1: 109634.5277567\tbest: 109634.4564862 (89999)\ttotal: 3m 41s\tremaining: 4m 30s\n",
      "95000:\tlearn: 55001.6310766\ttest: 55001.6310766\ttest1: 109278.9281958\tbest: 109277.1370292 (94973)\ttotal: 3m 53s\tremaining: 4m 17s\n",
      "100000:\tlearn: 53995.4814327\ttest: 53995.4814327\ttest1: 109008.4919590\tbest: 108997.5252887 (99501)\ttotal: 4m 5s\tremaining: 4m 5s\n",
      "105000:\tlearn: 53094.0759932\ttest: 53094.0759932\ttest1: 108740.5879486\tbest: 108738.0047090 (104936)\ttotal: 4m 17s\tremaining: 3m 52s\n",
      "110000:\tlearn: 52303.9054009\ttest: 52303.9054009\ttest1: 108507.5856984\tbest: 108506.9776546 (109987)\ttotal: 4m 29s\tremaining: 3m 40s\n",
      "115000:\tlearn: 51530.3964560\ttest: 51530.3964560\ttest1: 108255.1679507\tbest: 108255.1679507 (115000)\ttotal: 4m 41s\tremaining: 3m 28s\n",
      "120000:\tlearn: 50892.8602256\ttest: 50892.8602256\ttest1: 108035.7450710\tbest: 108035.0418812 (119976)\ttotal: 4m 53s\tremaining: 3m 15s\n",
      "125000:\tlearn: 50281.3681992\ttest: 50281.3681992\ttest1: 107830.3152464\tbest: 107830.3152464 (125000)\ttotal: 5m 5s\tremaining: 3m 3s\n",
      "130000:\tlearn: 49726.3862074\ttest: 49726.3862074\ttest1: 107631.2059846\tbest: 107631.1982188 (129999)\ttotal: 5m 18s\tremaining: 2m 51s\n",
      "135000:\tlearn: 49071.6438830\ttest: 49071.6438830\ttest1: 107483.6711346\tbest: 107483.5110326 (134992)\ttotal: 5m 32s\tremaining: 2m 39s\n",
      "140000:\tlearn: 48576.7086626\ttest: 48576.7086626\ttest1: 107358.7768136\tbest: 107358.4856021 (139927)\ttotal: 5m 46s\tremaining: 2m 28s\n",
      "145000:\tlearn: 48114.3053435\ttest: 48114.3053435\ttest1: 107331.0266595\tbest: 107321.5101591 (141786)\ttotal: 6m\tremaining: 2m 16s\n",
      "150000:\tlearn: 47645.5926623\ttest: 47645.5926623\ttest1: 107292.6292357\tbest: 107289.6477241 (149855)\ttotal: 6m 15s\tremaining: 2m 5s\n",
      "155000:\tlearn: 47190.8922767\ttest: 47190.8922767\ttest1: 107190.8256838\tbest: 107189.9418703 (154821)\ttotal: 6m 29s\tremaining: 1m 52s\n",
      "160000:\tlearn: 46420.6480003\ttest: 46420.6480003\ttest1: 107208.6777931\tbest: 107152.1131263 (156138)\ttotal: 6m 43s\tremaining: 1m 40s\n",
      "Stopped by overfitting detector  (5000 iterations wait)\n",
      "\n",
      "bestTest = 107152.1131\n",
      "bestIteration = 156138\n",
      "\n",
      "Shrink model to first 156139 iterations.\n",
      "107152.11312725185\n"
     ]
    }
   ],
   "source": [
    "model = CatBoostRegressor(n_estimators=200000, grow_policy=\"Lossguide\", max_leaves=10, feature_border_type=\"UniformAndQuantiles\", bootstrap_type=\"Bayesian\", loss_function=\"MAE\", eval_metric=\"MAE\", depth=3, learning_rate=0.001, random_seed=rand_state, use_best_model=True).fit(X_train, y_train, eval_set=[(X_train,y_train),(X_test, y_test)], early_stopping_rounds=5000, verbose=5000)\n",
    "#validation set prediction\n",
    "predictions = model.predict(X_test)\n",
    "print(mean_absolute_error(y_test, predictions))\n",
    "# 160000:\tlearn: 46420.6480003\ttest: 46420.6480003\ttest1: 107208.6777931\tbest: 107152.1131263 (156138)\ttotal: 6m 4s"
   ]
  },
  {
   "cell_type": "code",
   "execution_count": 50,
   "metadata": {
    "scrolled": false
   },
   "outputs": [
    {
     "data": {
      "image/png": "[encoded data removed]",
      "text/plain": [
       "<Figure size 1440x1440 with 1 Axes>"
      ]
     },
     "metadata": {
      "needs_background": "light"
     },
     "output_type": "display_data"
    }
   ],
   "source": [
    "features = train.columns\n",
    "importances = model.feature_importances_\n",
    "indices = np.argsort(importances)\n",
    "\n",
    "plt.figure(figsize=[20, 20])\n",
    "plt.title('Feature Importances')\n",
    "plt.barh(range(len(indices)), importances[indices], color='b', align='center')\n",
    "plt.yticks(range(len(indices)), [features[i] for i in indices])\n",
    "plt.xlabel('Relative Importance')\n",
    "plt.show()"
   ]
  },
  {
   "cell_type": "markdown",
   "metadata": {},
   "source": [
    "# A plot of the actual CO2 emission vs the predicted one."
   ]
  },
  {
   "cell_type": "markdown",
   "metadata": {},
   "source": [
    "**Test Data**"
   ]
  },
  {
   "cell_type": "code",
   "execution_count": 51,
   "metadata": {},
   "outputs": [
    {
     "data": {
      "text/plain": [
       "<matplotlib.collections.PathCollection at 0x17093cf9af0>"
      ]
     },
     "execution_count": 51,
     "metadata": {},
     "output_type": "execute_result"
    },
    {
     "data": {
      "image/png": "[encoded data removed]",
      "text/plain": [
       "<Figure size 432x288 with 1 Axes>"
      ]
     },
     "metadata": {
      "needs_background": "light"
     },
     "output_type": "display_data"
    }
   ],
   "source": [
    "plt.scatter(x=y_test, y=y_test)"
   ]
  },
  {
   "cell_type": "code",
   "execution_count": 52,
   "metadata": {},
   "outputs": [
    {
     "data": {
      "text/plain": [
       "<matplotlib.collections.PathCollection at 0x17093d50eb0>"
      ]
     },
     "execution_count": 52,
     "metadata": {},
     "output_type": "execute_result"
    },
    {
     "data": {
      "image/png": "[encoded data removed]",
      "text/plain": [
       "<Figure size 432x288 with 1 Axes>"
      ]
     },
     "metadata": {
      "needs_background": "light"
     },
     "output_type": "display_data"
    }
   ],
   "source": [
    "plt.scatter(x=y_test, y=predictions)"
   ]
  },
  {
   "cell_type": "markdown",
   "metadata": {},
   "source": [
    "**Train Data**"
   ]
  },
  {
   "cell_type": "code",
   "execution_count": 53,
   "metadata": {},
   "outputs": [
    {
     "data": {
      "text/plain": [
       "<matplotlib.collections.PathCollection at 0x17093db61f0>"
      ]
     },
     "execution_count": 53,
     "metadata": {},
     "output_type": "execute_result"
    },
    {
     "data": {
      "image/png": "[encoded data removed]",
      "text/plain": [
       "<Figure size 432x288 with 1 Axes>"
      ]
     },
     "metadata": {
      "needs_background": "light"
     },
     "output_type": "display_data"
    }
   ],
   "source": [
    "plt.scatter(x=y_train, y=y_train)"
   ]
  },
  {
   "cell_type": "code",
   "execution_count": 54,
   "metadata": {},
   "outputs": [
    {
     "data": {
      "text/plain": [
       "<matplotlib.collections.PathCollection at 0x17093d2c4f0>"
      ]
     },
     "execution_count": 54,
     "metadata": {},
     "output_type": "execute_result"
    },
    {
     "data": {
      "image/png": "[encoded data removed]",
      "text/plain": [
       "<Figure size 432x288 with 1 Axes>"
      ]
     },
     "metadata": {
      "needs_background": "light"
     },
     "output_type": "display_data"
    }
   ],
   "source": [
    "plt.scatter(x=y_train, y=model.predict(X_train))"
   ]
  },
  {
   "cell_type": "markdown",
   "metadata": {},
   "source": [
    "# Histogram analysis of the prediction"
   ]
  },
  {
   "cell_type": "markdown",
   "metadata": {},
   "source": [
    "**Test Data**"
   ]
  },
  {
   "cell_type": "code",
   "execution_count": 55,
   "metadata": {},
   "outputs": [
    {
     "data": {
      "text/plain": [
       "(array([ 96., 183., 115.,  31.,   9.,   0.,   1.,   0.,   0.,   2.]),\n",
       " array([7.90000000e+01, 6.36928530e+06, 1.27384916e+07, 1.91076979e+07,\n",
       "        2.54769042e+07, 3.18461105e+07, 3.82153168e+07, 4.45845231e+07,\n",
       "        5.09537294e+07, 5.73229357e+07, 6.36921420e+07]),\n",
       " <BarContainer object of 10 artists>)"
      ]
     },
     "execution_count": 55,
     "metadata": {},
     "output_type": "execute_result"
    },
    {
     "data": {
      "image/png": "[encoded data removed]",
      "text/plain": [
       "<Figure size 432x288 with 1 Axes>"
      ]
     },
     "metadata": {
      "needs_background": "light"
     },
     "output_type": "display_data"
    }
   ],
   "source": [
    "plt.hist(x=y_test)"
   ]
  },
  {
   "cell_type": "code",
   "execution_count": 56,
   "metadata": {},
   "outputs": [
    {
     "data": {
      "text/plain": [
       "(array([ 90., 174., 119.,  37.,  13.,   1.,   1.,   0.,   1.,   1.]),\n",
       " array([  148683.54348133,  6188651.69177551, 12228619.84006969,\n",
       "        18268587.98836387, 24308556.13665805, 30348524.28495223,\n",
       "        36388492.4332464 , 42428460.58154058, 48468428.72983477,\n",
       "        54508396.87812895, 60548365.02642313]),\n",
       " <BarContainer object of 10 artists>)"
      ]
     },
     "execution_count": 56,
     "metadata": {},
     "output_type": "execute_result"
    },
    {
     "data": {
      "image/png": "[encoded data removed]",
      "text/plain": [
       "<Figure size 432x288 with 1 Axes>"
      ]
     },
     "metadata": {
      "needs_background": "light"
     },
     "output_type": "display_data"
    }
   ],
   "source": [
    "plt.hist(x=predictions)"
   ]
  },
  {
   "cell_type": "markdown",
   "metadata": {},
   "source": [
    "**Train Data**"
   ]
  },
  {
   "cell_type": "code",
   "execution_count": 57,
   "metadata": {},
   "outputs": [
    {
     "data": {
      "text/plain": [
       "(array([1.05e+03, 2.51e+02, 4.00e+00, 1.00e+00, 2.00e+00, 0.00e+00,\n",
       "        0.00e+00, 0.00e+00, 0.00e+00, 1.00e+00]),\n",
       " array([8.10000000e+01, 1.65638856e+07, 3.31276902e+07, 4.96914948e+07,\n",
       "        6.62552994e+07, 8.28191040e+07, 9.93829086e+07, 1.15946713e+08,\n",
       "        1.32510518e+08, 1.49074322e+08, 1.65638127e+08]),\n",
       " <BarContainer object of 10 artists>)"
      ]
     },
     "execution_count": 57,
     "metadata": {},
     "output_type": "execute_result"
    },
    {
     "data": {
      "image/png": "[encoded data removed]",
      "text/plain": [
       "<Figure size 432x288 with 1 Axes>"
      ]
     },
     "metadata": {
      "needs_background": "light"
     },
     "output_type": "display_data"
    }
   ],
   "source": [
    "plt.hist(x=y_train)"
   ]
  },
  {
   "cell_type": "code",
   "execution_count": 58,
   "metadata": {},
   "outputs": [
    {
     "data": {
      "text/plain": [
       "(array([1.05e+03, 2.51e+02, 4.00e+00, 1.00e+00, 2.00e+00, 0.00e+00,\n",
       "        0.00e+00, 0.00e+00, 0.00e+00, 1.00e+00]),\n",
       " array([-1.97799118e+02,  1.65552588e+07,  3.31107154e+07,  4.96661721e+07,\n",
       "         6.62216287e+07,  8.27770853e+07,  9.93325419e+07,  1.15887999e+08,\n",
       "         1.32443455e+08,  1.48998912e+08,  1.65554368e+08]),\n",
       " <BarContainer object of 10 artists>)"
      ]
     },
     "execution_count": 58,
     "metadata": {},
     "output_type": "execute_result"
    },
    {
     "data": {
      "image/png": "[encoded data removed]",
      "text/plain": [
       "<Figure size 432x288 with 1 Axes>"
      ]
     },
     "metadata": {
      "needs_background": "light"
     },
     "output_type": "display_data"
    }
   ],
   "source": [
    "plt.hist(x=model.predict(X_train))"
   ]
  },
  {
   "cell_type": "code",
   "execution_count": null,
   "metadata": {},
   "outputs": [],
   "source": []
  }
 ],
 "metadata": {
  "kernelspec": {
   "display_name": "Python 3",
   "language": "python",
   "name": "python3"
  },
  "language_info": {
   "codemirror_mode": {
    "name": "ipython",
    "version": 3
   },
   "file_extension": ".py",
   "mimetype": "text/x-python",
   "name": "python",
   "nbconvert_exporter": "python",
   "pygments_lexer": "ipython3",
   "version": "3.8.5"
  }
 },
 "nbformat": 4,
 "nbformat_minor": 4
}
